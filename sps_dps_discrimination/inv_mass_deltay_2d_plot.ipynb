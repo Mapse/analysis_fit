{
 "cells": [
  {
   "cell_type": "code",
   "execution_count": null,
   "id": "32f33a53-566f-4add-a1ef-e70954d9088a",
   "metadata": {},
   "outputs": [],
   "source": [
    "import uproot\n",
    "import hist\n",
    "from hist import Hist\n",
    "import matplotlib.pyplot as plt\n",
    "import mplhep"
   ]
  },
  {
   "cell_type": "code",
   "execution_count": null,
   "id": "c4f932d0-f11b-4410-8e7f-d7bb9ce2bf4b",
   "metadata": {},
   "outputs": [],
   "source": [
    "mplhep.style.use(\"CMS\")"
   ]
  },
  {
   "cell_type": "code",
   "execution_count": null,
   "id": "22251637-663d-4efc-9fe1-f624e3675cc7",
   "metadata": {},
   "outputs": [],
   "source": [
    "#https://hist.readthedocs.io/en/latest/user-guide/notebooks/Plots.html\n",
    "ttree = 'obje;1'\n",
    "var_x = 'jpsi_dstar_mass'\n",
    "name_x = 'mass'\n",
    "name_y = \"rap\"\n",
    "var_y = 'jpsi_dstar_deltarap'\n",
    "label_x = r\"$M_{J/\\psi D*}$ [GeV/$c^2$]\"\n",
    "label_y = r\"$\\Delta y_{J/\\psi D*}$\""
   ]
  },
  {
   "cell_type": "code",
   "execution_count": null,
   "id": "28ea3bc5-7123-4cef-9c8b-ecd126b62629",
   "metadata": {},
   "outputs": [],
   "source": [
    "def get_data(path_file, ttree, var_x, var_y):\n",
    "    \n",
    "    with uproot.open(path_file) as f:\n",
    "        #print(f.classnames())\n",
    "        # Takes the ttree objec (defined in save_ttree.py script)\n",
    "        tree_obj = f[ttree]\n",
    "        # Takes its arrays\n",
    "        branch_obj = tree_obj.arrays()\n",
    "        \n",
    "        # Takes the composed object inv mass\n",
    "        jpsi_dstar_mass = branch_obj[var_x]\n",
    "        # Takes the composed object delta y    \n",
    "        jpsi_dstar_deltarap = branch_obj[var_y]\n",
    "        \n",
    "        return jpsi_dstar_mass, jpsi_dstar_deltarap"
   ]
  },
  {
   "cell_type": "code",
   "execution_count": null,
   "id": "403bc509-dc62-4710-abb4-c36b8192b1e2",
   "metadata": {},
   "outputs": [],
   "source": [
    "def plot_hist(var_x, var_y, h_range, bin_inv_mass):\n",
    "    \n",
    "    hist_2d = hist.Hist(hist.axis.Regular(bin_inv_mass, 0, 100, name=name_x, label=label_x), \n",
    "                      hist.axis.Regular(100, -5, 5, name=name_y, label=label_y))   \n",
    "    hist_2d.fill(mass=var_x, rap=var_y)\n",
    "    \n",
    "    #fig = plt.figure()\n",
    "    #fig.clear()\n",
    "    #ax = fig.add_subplot()\n",
    "    \n",
    "    hist_2d_2 = hist_2d[h_range[0][0]:h_range[0][1], h_range[1][0]:h_range[1][1]]\n",
    "    #mplhep.histplot(hist_2d_2.project(\"mass\"), ax=axs[0])\n",
    "    #mplhep.hist2dplot(hist_2d_2, ax=ax)\n",
    "    \n",
    "    #fig, ax = plt.subplots(figsize=(6, 6))\n",
    "\n",
    "    #hist_2d_2.plot2d(ax=ax, cmap=\"plasma\")\n",
    "    \n",
    "    plt.figure(figsize=(12, 12))\n",
    "\n",
    "    hist_2d_2.plot2d_full(\n",
    "        main_cmap=\"turbo\", #Goods: turbo, pink , ocean  #'binary', 'gist_yarg', 'gist_gray', 'gray', 'bone','pink', 'spring', 'summer', 'autumn', 'winter', 'cool','Wistia', 'hot', 'afmhot', 'gist_heat', 'copper'\n",
    "        top_ls=\"--\",       # https://matplotlib.org/stable/tutorials/colors/colormaps.html\n",
    "        top_color=\"orange\",\n",
    "        top_lw=2,\n",
    "        side_ls=\":\",\n",
    "        side_lw=2,\n",
    "        side_color=\"steelblue\",\n",
    "    )\n",
    "\n",
    "    plt.show()\n",
    "    "
   ]
  },
  {
   "cell_type": "code",
   "execution_count": null,
   "id": "c8fdf909-594a-43d1-a6b0-be1e51029efc",
   "metadata": {},
   "outputs": [],
   "source": [
    "################# Test"
   ]
  },
  {
   "cell_type": "code",
   "execution_count": null,
   "id": "3db7999c-a107-4212-9abc-5309c8d75591",
   "metadata": {},
   "outputs": [],
   "source": [
    "#https://hist.readthedocs.io/en/latest/user-guide/notebooks/Plots.html\n",
    "ttree = 'obje;1'\n",
    "var_x = 'jpsi_dstar_mass'\n",
    "name_x = 'mass'\n",
    "name_y = \"rap\"\n",
    "var_y = 'jpsi_dstar_deltarap'\n",
    "label_x = r\"$M_{J/\\psi D*}$ [GeV/$c^2$]\"\n",
    "label_y = r\"$\\Delta y_{J/\\psi D*}$\""
   ]
  },
  {
   "cell_type": "code",
   "execution_count": null,
   "id": "6b6c4415-398a-447e-9644-366b5e4ae3d3",
   "metadata": {},
   "outputs": [],
   "source": [
    "hist_1d = hist.Hist(hist.axis.Regular(150, 0, 100, name=name_x, label=label_x))  \n",
    "path_file = '/afs/cern.ch/work/m/mabarros/public/CMSSW_10_6_12/src/analysis_data/analysis_fit/fit/data_root_files/2017/Charmonium2017_HLT_Dimuon25_vtx0p05.root'\n",
    "x, y = get_data(path_file, ttree, var_x, var_y)\n",
    "hist_1d.fill(x)\n",
    "fig, ax = plt.subplots()\n",
    "mplhep.cms.label('Preliminary', data=True, lumi=41.48, year=2017)\n",
    "mplhep.histplot(hist_1d, histtype='errorbar')\n",
    "ax.set_ylabel('Counts')"
   ]
  },
  {
   "cell_type": "code",
   "execution_count": null,
   "id": "9345846e-3c32-4c6e-9fc3-8a5748d10db6",
   "metadata": {},
   "outputs": [],
   "source": []
  },
  {
   "cell_type": "code",
   "execution_count": null,
   "id": "f70ce851-1bc5-4f90-8adb-2c77f1b38ed6",
   "metadata": {},
   "outputs": [],
   "source": []
  },
  {
   "cell_type": "markdown",
   "id": "e4f7775e-c9fb-475a-a200-e917695a2634",
   "metadata": {},
   "source": [
    "# 2016"
   ]
  },
  {
   "cell_type": "markdown",
   "id": "057da787-2299-467b-beec-ec6cbcdae7d6",
   "metadata": {},
   "source": [
    "## 2D plots"
   ]
  },
  {
   "cell_type": "markdown",
   "id": "8b85935e-b1c7-411f-946e-0a3ef4e945a8",
   "metadata": {},
   "source": [
    "### Invariant mass: 0 to 100 GeV/c$^2$"
   ]
  },
  {
   "cell_type": "code",
   "execution_count": null,
   "id": "64e132b2-db38-44b8-8428-b8d907ce16c5",
   "metadata": {},
   "outputs": [],
   "source": [
    "path_file = '/afs/cern.ch/work/m/mabarros/public/CMSSW_10_6_12/src/analysis_data/2016/vertex_analysis/OniaOpenCharmRun2ULAna/fit/data_root_files/Charmonium2016ALL_HLT_Dimu.root'\n",
    "x, y = get_data(path_file, ttree, var_x, var_y)\n",
    "h_range = [[0, 400], [None, None]] #h_range = [[mass_inf, mass_sup], [delta_rap_inf, delta_rap_sup]]\n",
    "plot_hist(x, y, h_range, 140)"
   ]
  },
  {
   "cell_type": "markdown",
   "id": "ec2abb26-eb65-40e3-9f7f-17e4610f1a78",
   "metadata": {},
   "source": [
    "### Invariant mass: 0 to 60 GeV/c$^2$"
   ]
  },
  {
   "cell_type": "code",
   "execution_count": null,
   "id": "1cbecbbd-0dfd-43c1-9b2c-af627ef5154b",
   "metadata": {},
   "outputs": [],
   "source": [
    "path_file = '/afs/cern.ch/work/m/mabarros/public/CMSSW_10_6_12/src/analysis_data/2016/vertex_analysis/OniaOpenCharmRun2ULAna/fit/data_root_files/Charmonium2016ALL_HLT_Dimu.root'\n",
    "x, y = get_data(path_file, ttree, var_x, var_y)\n",
    "h_range = [[0, 100], [None, None]] #h_range = [[mass_inf, mass_sup], [delta_rap_inf, delta_rap_sup]]\n",
    "plot_hist(x, y, h_range, 200)"
   ]
  },
  {
   "cell_type": "markdown",
   "id": "37b6ef37-88de-4320-be36-ee2851a45dfe",
   "metadata": {},
   "source": [
    "### Invariant mass: 0 to 20 GeV/c$^2$"
   ]
  },
  {
   "cell_type": "code",
   "execution_count": null,
   "id": "702ab3e0-5d53-451f-8bcd-82d21cd7608d",
   "metadata": {},
   "outputs": [],
   "source": [
    "path_file = '/afs/cern.ch/work/m/mabarros/public/CMSSW_10_6_12/src/analysis_data/2016/vertex_analysis/OniaOpenCharmRun2ULAna/fit/data_root_files/Charmonium2016ALL_HLT_Dimu.root'\n",
    "x, y = get_data(path_file, ttree, var_x, var_y)\n",
    "h_range = [[0, 70], [None, None]] #h_range = [[mass_inf, mass_sup], [delta_rap_inf, delta_rap_sup]]\n",
    "plot_hist(x, y, h_range, 300)\n",
    "## The histogram bin might change !!"
   ]
  },
  {
   "cell_type": "markdown",
   "id": "e442015a-d6c8-4945-a962-64692c551525",
   "metadata": {},
   "source": [
    "### Invariant mass: 15 to 100 GeV/c$^2$"
   ]
  },
  {
   "cell_type": "code",
   "execution_count": null,
   "id": "93d36ccd-59d8-484f-b9b5-72e05844e953",
   "metadata": {},
   "outputs": [],
   "source": [
    "path_file = 'Charmonium_2016_All_HLT_Dimuon20_asso_study.root'\n",
    "x, y = get_data(path_file, ttree, var_x, var_y)\n",
    "h_range = [[50, 400], [None, None]] #h_range = [[mass_inf, mass_sup], [delta_rap_inf, delta_rap_sup]]\n",
    "plot_hist(x, y, h_range,)"
   ]
  },
  {
   "cell_type": "markdown",
   "id": "7864d6ed-1a39-487d-b833-54bcdc323dd0",
   "metadata": {},
   "source": [
    "## 1D plots"
   ]
  },
  {
   "cell_type": "markdown",
   "id": "0254e369-ab8c-4f68-acb3-d16ce2f211ab",
   "metadata": {},
   "source": [
    "### Invariant mass "
   ]
  },
  {
   "cell_type": "code",
   "execution_count": null,
   "id": "0b4f83ec-549e-465a-95b9-97214b448596",
   "metadata": {},
   "outputs": [],
   "source": [
    "hist_1d = hist.Hist(hist.axis.Regular(150, 0, 100, name=name_x, label=label_x))  \n",
    "path_file = '/afs/cern.ch/work/m/mabarros/public/CMSSW_10_6_12/src/analysis_data/2016/vertex_analysis/OniaOpenCharmRun2ULAna/fit/data_root_files/Charmonium2016ALL_HLT_Dimu.root'\n",
    "x, y = get_data(path_file, ttree, var_x, var_y)\n",
    "hist_1d.fill(x)\n",
    "fig, ax = plt.subplots()\n",
    "mplhep.cms.label('Preliminary', data=True, lumi=36.31, year=2016)\n",
    "mplhep.histplot(hist_1d, histtype='errorbar')\n",
    "ax.set_ylabel('Counts')"
   ]
  },
  {
   "cell_type": "markdown",
   "id": "c815334a-a389-4f51-9f7e-b519d3f68e96",
   "metadata": {},
   "source": [
    "### First peak study"
   ]
  },
  {
   "cell_type": "code",
   "execution_count": null,
   "id": "5f9c2fd8-6c37-45b0-872b-265a00583a63",
   "metadata": {},
   "outputs": [],
   "source": [
    "hist_1d = hist.Hist(hist.axis.Regular(150, 5, 10, name=name_x, label=label_x))  \n",
    "path_file = '/afs/cern.ch/work/m/mabarros/public/CMSSW_10_6_12/src/analysis_data/2016/vertex_analysis/OniaOpenCharmRun2ULAna/fit/data_root_files/Charmonium2016ALL_HLT_Dimu.root'\n",
    "x, y = get_data(path_file, ttree, var_x, var_y)\n",
    "hist_1d.fill(x)\n",
    "fig, ax = plt.subplots()\n",
    "mplhep.cms.label('Preliminary', data=True, lumi=36.32, year=2016)\n",
    "mplhep.histplot(hist_1d, histtype='errorbar')\n",
    "ax.set_ylabel('Counts')"
   ]
  },
  {
   "cell_type": "markdown",
   "id": "7115ce2d-06d9-447a-a7ce-4c077d913e86",
   "metadata": {},
   "source": [
    "### Second peak study"
   ]
  },
  {
   "cell_type": "code",
   "execution_count": null,
   "id": "c05b4a38-0e91-497d-b5c1-dcb40b14f393",
   "metadata": {},
   "outputs": [],
   "source": [
    "hist_1d = hist.Hist(hist.axis.Regular(200, 15, 100, name=name_x, label=label_x))  \n",
    "path_file = '/afs/cern.ch/work/m/mabarros/public/CMSSW_10_6_12/src/analysis_data/2016/vertex_analysis/OniaOpenCharmRun2ULAna/fit/data_root_files/Charmonium2016ALL_HLT_Dimu.root'\n",
    "x, y = get_data(path_file, ttree, var_x, var_y)\n",
    "hist_1d.fill(x)\n",
    "fig, ax = plt.subplots()\n",
    "mplhep.cms.label('Preliminary', data=True, lumi=36.32, year=2016)\n",
    "mplhep.histplot(hist_1d, histtype='errorbar')\n",
    "ax.set_ylabel('Counts')"
   ]
  },
  {
   "cell_type": "markdown",
   "id": "5764f7bf-da8d-4ad2-92cf-cd660cbdd942",
   "metadata": {},
   "source": [
    "### $\\Delta$y "
   ]
  },
  {
   "cell_type": "code",
   "execution_count": null,
   "id": "baac4fb3-d3a3-4d06-94c3-ea3536386119",
   "metadata": {},
   "outputs": [],
   "source": [
    "hist_1d = hist.Hist(hist.axis.Regular(150, -5, 5, name=name_y, label=label_y))  \n",
    "path_file = '/afs/cern.ch/work/m/mabarros/public/CMSSW_10_6_12/src/analysis_data/2016/vertex_analysis/OniaOpenCharmRun2ULAna/fit/data_root_files/Charmonium2016ALL_HLT_Dimu.root'\n",
    "x, y = get_data(path_file, ttree, var_x, var_y)\n",
    "hist_1d.fill(y)\n",
    "fig, ax = plt.subplots()\n",
    "mplhep.cms.label('Preliminary', data=True, lumi=36.31, year=2016)\n",
    "mplhep.histplot(hist_1d, histtype='errorbar')\n",
    "ax.set_ylabel('Counts')"
   ]
  },
  {
   "cell_type": "markdown",
   "id": "877bc102-93d0-4c11-a3d0-1e770f9831ba",
   "metadata": {},
   "source": []
  },
  {
   "cell_type": "markdown",
   "id": "a13c84b2-2e2a-4ab7-a0b6-5c7065620e1f",
   "metadata": {},
   "source": [
    "# 2017"
   ]
  },
  {
   "cell_type": "markdown",
   "id": "3c9a2ebf-34f4-4762-924d-e4b8fb913b4d",
   "metadata": {},
   "source": [
    "## 2D plots"
   ]
  },
  {
   "cell_type": "markdown",
   "id": "38db93c8-1766-4d7e-9f26-02219fa9aa0f",
   "metadata": {},
   "source": [
    "### Invariant mass: 0 to 100 GeV/c$^2$"
   ]
  },
  {
   "cell_type": "code",
   "execution_count": 10,
   "id": "12ab9784-4c3c-4bb0-83d8-36da03368d7e",
   "metadata": {},
   "outputs": [
    {
     "data": {
      "image/png": "[encoded data removed]",
      "text/plain": [
       "<Figure size 864x864 with 3 Axes>"
      ]
     },
     "metadata": {
      "needs_background": "light"
     },
     "output_type": "display_data"
    }
   ],
   "source": [
    "path_file = '/afs/cern.ch/work/m/mabarros/public/CMSSW_10_6_12/src/analysis_data/analysis_fit/fit/data_root_files/2017/Charmonium2017_HLT_Dimuon25_vtx0p05.root'\n",
    "x, y = get_data(path_file, ttree, var_x, var_y)\n",
    "h_range = [[0, 400], [None, None]] #h_range = [[mass_inf, mass_sup], [delta_rap_inf, delta_rap_sup]]\n",
    "plot_hist(x, y, h_range, 150)"
   ]
  },
  {
   "cell_type": "markdown",
   "id": "29093f6b-eae9-41ee-a921-6c6c626aed27",
   "metadata": {},
   "source": [
    "### Invariant mass: 0 to 60 GeV/c$^2$"
   ]
  },
  {
   "cell_type": "code",
   "execution_count": null,
   "id": "62d9017f-c5fe-4c37-918c-b2f0a6a84823",
   "metadata": {},
   "outputs": [],
   "source": [
    "path_file = '/afs/cern.ch/work/m/mabarros/public/CMSSW_10_6_12/src/analysis_data/2017/vertex_analysis/OniaOpenCharmRun2ULAna/fit/data_root_files/Charmonium2017_HLT_Dimuon25.root'\n",
    "x, y = get_data(path_file, ttree, var_x, var_y)\n",
    "h_range = [[0, 100], [None, None]] #h_range = [[mass_inf, mass_sup], [delta_rap_inf, delta_rap_sup]]\n",
    "plot_hist(x, y, h_range, 160)"
   ]
  },
  {
   "cell_type": "markdown",
   "id": "c2373b71-2f4e-4adc-a519-5768f54c3db1",
   "metadata": {},
   "source": [
    "### Invariant mass: 0 to 20 GeV/c$^2$"
   ]
  },
  {
   "cell_type": "code",
   "execution_count": null,
   "id": "45757b24-c962-4c32-811b-2a1fc36765bd",
   "metadata": {},
   "outputs": [],
   "source": [
    "path_file = '/afs/cern.ch/work/m/mabarros/public/CMSSW_10_6_12/src/analysis_data/2017/vertex_analysis/OniaOpenCharmRun2ULAna/fit/data_root_files/Charmonium2017_HLT_Dimuon25.root'\n",
    "x, y = get_data(path_file, ttree, var_x, var_y)\n",
    "h_range = [[0, 50], [None, None]] #h_range = [[mass_inf, mass_sup], [delta_rap_inf, delta_rap_sup]]\n",
    "plot_hist(x, y, h_range, 200)"
   ]
  },
  {
   "cell_type": "markdown",
   "id": "4ca7e1eb-aa5c-421f-9f15-d47010961f57",
   "metadata": {},
   "source": [
    "### Invariant mass: 15 to 100 GeV/c$^2$"
   ]
  },
  {
   "cell_type": "code",
   "execution_count": null,
   "id": "8c4b84e2-e222-4092-95e2-47d91b2bcf71",
   "metadata": {},
   "outputs": [],
   "source": [
    "path_file = 'Charmonium_2017_All_HLT_Dimuon25_asso_study.root'\n",
    "x, y = get_data(path_file, ttree, var_x, var_y)\n",
    "h_range = [[50, 400], [None, None]] #h_range = [[mass_inf, mass_sup], [delta_rap_inf, delta_rap_sup]]\n",
    "plot_hist(x, y, h_range,)"
   ]
  },
  {
   "cell_type": "markdown",
   "id": "4c6bacbc-8559-4ff9-b314-0bfe94875f64",
   "metadata": {},
   "source": [
    "## 1D plots"
   ]
  },
  {
   "cell_type": "markdown",
   "id": "c019f0bf-d754-4c3e-a7d2-ced71375a848",
   "metadata": {},
   "source": [
    "### Invariant mass"
   ]
  },
  {
   "cell_type": "code",
   "execution_count": 14,
   "id": "85b067f5-8bd3-4a9b-a6a0-1274c22fa6a2",
   "metadata": {},
   "outputs": [
    {
     "data": {
      "text/plain": [
       "Text(52.5, 1, 'Counts')"
      ]
     },
     "execution_count": 14,
     "metadata": {},
     "output_type": "execute_result"
    },
    {
     "data": {
      "image/png": "[encoded data removed]",
      "text/plain": [
       "<Figure size 720x720 with 1 Axes>"
      ]
     },
     "metadata": {
      "needs_background": "light"
     },
     "output_type": "display_data"
    }
   ],
   "source": [
    "hist_1d = hist.Hist(hist.axis.Regular(150, 0, 100, name=name_x, label=label_x))  \n",
    "path_file = '/afs/cern.ch/work/m/mabarros/public/CMSSW_10_6_12/src/analysis_data/analysis_fit/fit/data_root_files/2017/Charmonium2017_HLT_Dimuon25_inv_mass.root'\n",
    "x, y = get_data(path_file, ttree, var_x, var_y)\n",
    "hist_1d.fill(x)\n",
    "fig, ax = plt.subplots()\n",
    "mplhep.cms.label('Preliminary', data=True, lumi=41.48, year=2017)\n",
    "mplhep.histplot(hist_1d, histtype='errorbar')\n",
    "ax.set_ylabel('Counts')"
   ]
  },
  {
   "cell_type": "markdown",
   "id": "c33877ef-74fe-461e-a4a8-77aed5f9f986",
   "metadata": {},
   "source": [
    "### First peak study"
   ]
  },
  {
   "cell_type": "code",
   "execution_count": null,
   "id": "88f2f264-d2ff-4e07-b42b-f4694dc7f589",
   "metadata": {},
   "outputs": [],
   "source": [
    "hist_1d = hist.Hist(hist.axis.Regular(150, 5, 10, name=name_x, label=label_x))  \n",
    "path_file = 'Charmonium_2017_All_HLT_Dimuon25_asso_study.root'\n",
    "x, y = get_data(path_file, ttree, var_x, var_y)\n",
    "hist_1d.fill(x)\n",
    "fig, ax = plt.subplots()\n",
    "mplhep.cms.label('Preliminary', data=True, lumi=41.53, year=2017)\n",
    "mplhep.histplot(hist_1d, histtype='errorbar')\n",
    "ax.set_ylabel('Counts')"
   ]
  },
  {
   "cell_type": "markdown",
   "id": "7ddc7a02-533e-4b09-a7c1-85ba648057c3",
   "metadata": {},
   "source": [
    "### Second peak study"
   ]
  },
  {
   "cell_type": "code",
   "execution_count": null,
   "id": "9fcd6005-07e7-441e-b5d2-79a510f2f7c3",
   "metadata": {},
   "outputs": [],
   "source": [
    "hist_1d = hist.Hist(hist.axis.Regular(200, 15, 100, name=name_x, label=label_x))  \n",
    "path_file = 'Charmonium_2017_All_HLT_Dimuon25_asso_study.root'\n",
    "x, y = get_data(path_file, ttree, var_x, var_y)\n",
    "hist_1d.fill(x)\n",
    "fig, ax = plt.subplots()\n",
    "mplhep.cms.label('Preliminary', data=True, lumi=41.53, year=2017)\n",
    "mplhep.histplot(hist_1d, histtype='errorbar')\n",
    "ax.set_ylabel('Counts')"
   ]
  },
  {
   "cell_type": "markdown",
   "id": "de582d03-afda-4fc7-b7bd-c939a3756069",
   "metadata": {},
   "source": [
    "### $\\Delta$y "
   ]
  },
  {
   "cell_type": "code",
   "execution_count": null,
   "id": "c376bcf3-4245-47cc-b4eb-2f4e672573e1",
   "metadata": {},
   "outputs": [],
   "source": [
    "hist_1d = hist.Hist(hist.axis.Regular(150, -5, 5, name=name_y, label=label_y))  \n",
    "path_file = '/afs/cern.ch/work/m/mabarros/public/CMSSW_10_6_12/src/analysis_data/2017/vertex_analysis/OniaOpenCharmRun2ULAna/fit/data_root_files/Charmonium2017_HLT_Dimuon25.root'\n",
    "x, y = get_data(path_file, ttree, var_x, var_y)\n",
    "hist_1d.fill(y)\n",
    "fig, ax = plt.subplots()\n",
    "mplhep.cms.label('Preliminary', data=True, lumi=41.48, year=2017)\n",
    "mplhep.histplot(hist_1d, histtype='errorbar')\n",
    "ax.set_ylabel('Counts')"
   ]
  },
  {
   "cell_type": "markdown",
   "id": "58e417e9-c51f-4c68-8f7b-0ec575fceb01",
   "metadata": {},
   "source": [
    "# 2018"
   ]
  },
  {
   "cell_type": "markdown",
   "id": "784a0b90-faf7-4d8f-9afb-5dd6cd2a603e",
   "metadata": {},
   "source": [
    "## 2D plots"
   ]
  },
  {
   "cell_type": "markdown",
   "id": "19fe8fc0-1fed-40ab-b7e2-d4caea46ef7e",
   "metadata": {},
   "source": [
    "### Invariant mass: 0 to 100 GeV/c$^2$"
   ]
  },
  {
   "cell_type": "code",
   "execution_count": null,
   "id": "e06d8ec4-4466-4275-ac52-a40a3eda97cd",
   "metadata": {},
   "outputs": [],
   "source": [
    "path_file = '/afs/cern.ch/work/m/mabarros/public/CMSSW_10_6_12/src/analysis_data/2018/vertex_analysis/OniaOpenCharmRun2ULAna/fit/data_root_files/Charmonium2018_HLT_Dimuon25.root'\n",
    "x, y = get_data(path_file, ttree, var_x, var_y)\n",
    "h_range = [[0, 400], [None, None]] #h_range = [[mass_inf, mass_sup], [delta_rap_inf, delta_rap_sup]]\n",
    "plot_hist(x, y, h_range, 150)"
   ]
  },
  {
   "cell_type": "markdown",
   "id": "abebbd36-b077-4891-a99c-1a9d46bf789a",
   "metadata": {},
   "source": [
    "### Invariant mass: 0 to 60 GeV/c$^2$"
   ]
  },
  {
   "cell_type": "code",
   "execution_count": null,
   "id": "f6c57786-ea05-4be3-b36b-2036f0d57081",
   "metadata": {},
   "outputs": [],
   "source": [
    "path_file = '/afs/cern.ch/work/m/mabarros/public/CMSSW_10_6_12/src/analysis_data/2018/vertex_analysis/OniaOpenCharmRun2ULAna/fit/data_root_files/Charmonium2018_HLT_Dimuon25.root'\n",
    "x, y = get_data(path_file, ttree, var_x, var_y)\n",
    "h_range = [[0, 100], [None, None]] #h_range = [[mass_inf, mass_sup], [delta_rap_inf, delta_rap_sup]]\n",
    "plot_hist(x, y, h_range, 150)"
   ]
  },
  {
   "cell_type": "markdown",
   "id": "fdb1e0fd-5f75-440c-9d2f-80699b1a690b",
   "metadata": {},
   "source": [
    "### Invariant mass: 0 to 20 GeV/c$^2$"
   ]
  },
  {
   "cell_type": "code",
   "execution_count": null,
   "id": "da74a267-6b27-452a-845c-9da8c3755ba2",
   "metadata": {},
   "outputs": [],
   "source": [
    "path_file = '/afs/cern.ch/work/m/mabarros/public/CMSSW_10_6_12/src/analysis_data/2018/vertex_analysis/OniaOpenCharmRun2ULAna/fit/data_root_files/Charmonium2018_HLT_Dimuon25.root'\n",
    "x, y = get_data(path_file, ttree, var_x, var_y)\n",
    "h_range = [[0, 50], [None, None]] #h_range = [[mass_inf, mass_sup], [delta_rap_inf, delta_rap_sup]]\n",
    "plot_hist(x, y, h_range, 200)"
   ]
  },
  {
   "cell_type": "markdown",
   "id": "3b5d3c66-e7c0-40be-9327-6d5b7fbf8288",
   "metadata": {},
   "source": [
    "### Invariant mass: 0 to 20 GeV/c$^2$"
   ]
  },
  {
   "cell_type": "code",
   "execution_count": null,
   "id": "4743d905-fe31-47ca-adc8-1a0ec8334abe",
   "metadata": {},
   "outputs": [],
   "source": [
    "path_file = 'Charmonium_2018_All_HLT_Dimuon25_asso_study.root'\n",
    "x, y = get_data(path_file, ttree, var_x, var_y)\n",
    "h_range = [[50, 400], [None, None]] #h_range = [[mass_inf, mass_sup], [delta_rap_inf, delta_rap_sup]]\n",
    "plot_hist(x, y, h_range,)"
   ]
  },
  {
   "cell_type": "markdown",
   "id": "b030df8d-bae1-470c-84f9-30237285ece3",
   "metadata": {},
   "source": [
    "## 1D plots"
   ]
  },
  {
   "cell_type": "markdown",
   "id": "c7f80f83-7a40-4e03-9bd1-0eb7995c73c8",
   "metadata": {},
   "source": [
    "### Invariant mass "
   ]
  },
  {
   "cell_type": "code",
   "execution_count": null,
   "id": "cf263bc7-60ec-49c0-8fa2-68d8b94e9fd9",
   "metadata": {},
   "outputs": [],
   "source": [
    "hist_1d = hist.Hist(hist.axis.Regular(150, 5, 100, name=name_x, label=label_x))  \n",
    "path_file = '/afs/cern.ch/work/m/mabarros/public/CMSSW_10_6_12/src/analysis_data/2018/vertex_analysis/OniaOpenCharmRun2ULAna/fit/data_root_files/Charmonium2018_HLT_Dimuon25.root'\n",
    "x, y = get_data(path_file, ttree, var_x, var_y)\n",
    "hist_1d.fill(x)\n",
    "fig, ax = plt.subplots()\n",
    "mplhep.cms.label('Preliminary', data=True, lumi=59.76, year=2018)\n",
    "mplhep.histplot(hist_1d, histtype='errorbar')\n",
    "ax.set_ylabel('Counts')"
   ]
  },
  {
   "cell_type": "markdown",
   "id": "e92c5944-136b-49ca-8631-6694f7b5f8e1",
   "metadata": {},
   "source": [
    "### First peak study"
   ]
  },
  {
   "cell_type": "markdown",
   "id": "b79e8197-88e3-4fe8-b9ee-2338c99470f5",
   "metadata": {},
   "source": [
    "hist_1d = hist.Hist(hist.axis.Regular(150, 5, 10, name=name_x, label=label_x))  \n",
    "path_file = 'Charmonium_2018_All_HLT_Dimuon25_asso_study.root'\n",
    "x, y = get_data(path_file, ttree, var_x, var_y)\n",
    "hist_1d.fill(x)\n",
    "fig, ax = plt.subplots()\n",
    "mplhep.cms.label('Preliminary', data=True, lumi=57.69, year=2018)\n",
    "mplhep.histplot(hist_1d, histtype='errorbar')\n",
    "ax.set_ylabel('Counts')"
   ]
  },
  {
   "cell_type": "markdown",
   "id": "8c88bb10-cc3c-47d3-b1cb-7534c097ac50",
   "metadata": {},
   "source": [
    "#### Second peak study"
   ]
  },
  {
   "cell_type": "code",
   "execution_count": null,
   "id": "a5c25871-c4de-4b4a-bf3a-b72a80e63374",
   "metadata": {},
   "outputs": [],
   "source": [
    "hist_1d = hist.Hist(hist.axis.Regular(200, 15, 100, name=name_x, label=label_x))  \n",
    "path_file = 'Charmonium_2018_All_HLT_Dimuon25_asso_study.root'\n",
    "x, y = get_data(path_file, ttree, var_x, var_y)\n",
    "hist_1d.fill(x)\n",
    "fig, ax = plt.subplots()\n",
    "mplhep.cms.label('Preliminary', data=True, lumi=57.69, year=2018)\n",
    "mplhep.histplot(hist_1d, histtype='errorbar')\n",
    "ax.set_ylabel('Counts')"
   ]
  },
  {
   "cell_type": "markdown",
   "id": "af8c5434-4c9b-4438-bba8-be9fb8ed3116",
   "metadata": {},
   "source": [
    "### $\\Delta$y "
   ]
  },
  {
   "cell_type": "code",
   "execution_count": null,
   "id": "82152584-abe6-4328-9e89-327707f1e349",
   "metadata": {},
   "outputs": [],
   "source": [
    "hist_1d = hist.Hist(hist.axis.Regular(150, -5, 5, name=name_y, label=label_y))  \n",
    "path_file = '/afs/cern.ch/work/m/mabarros/public/CMSSW_10_6_12/src/analysis_data/2018/vertex_analysis/OniaOpenCharmRun2ULAna/fit/data_root_files/Charmonium2018_HLT_Dimuon25.root'\n",
    "x, y = get_data(path_file, ttree, var_x, var_y)\n",
    "hist_1d.fill(y)\n",
    "fig, ax = plt.subplots()\n",
    "mplhep.cms.label('Preliminary', data=True, lumi=59.76, year=2018)\n",
    "mplhep.histplot(hist_1d, histtype='errorbar')\n",
    "ax.set_ylabel('Counts')"
   ]
  },
  {
   "cell_type": "markdown",
   "id": "291491e3-22b0-48c0-864b-123d0451c97f",
   "metadata": {},
   "source": [
    "# DPS MC 2017"
   ]
  },
  {
   "cell_type": "markdown",
   "id": "fbc3ee70-eef7-425e-91f6-2a6c7a80f80b",
   "metadata": {},
   "source": [
    "## 2D plots"
   ]
  },
  {
   "cell_type": "markdown",
   "id": "8edea47e-1fef-443f-8442-61c08012f2d7",
   "metadata": {},
   "source": [
    "### Invariant mass: 0 to 100 GeV/c$^2$"
   ]
  },
  {
   "cell_type": "code",
   "execution_count": null,
   "id": "64b5bd78-724e-4391-a149-5a6f5aa7c703",
   "metadata": {},
   "outputs": [],
   "source": [
    "path_file = '/afs/cern.ch/work/m/mabarros/public/CMSSW_10_6_12/src/analysis_monte_carlo/2017/DPS/fit/data_root_files/50to100_HLT_Dimuon25.root'\n",
    "x, y = get_data(path_file, ttree, var_x, var_y)\n",
    "h_range = [[0, 400], [None, None]] #h_range = [[mass_inf, mass_sup], [delta_rap_inf, delta_rap_sup]]\n",
    "plot_hist(x, y, h_range, 60)"
   ]
  },
  {
   "cell_type": "markdown",
   "id": "dde078ac-3e15-4869-be80-3272c602415c",
   "metadata": {},
   "source": [
    "## 1D plots"
   ]
  },
  {
   "cell_type": "markdown",
   "id": "5eeb1075-ff9c-4026-9a2f-ff2cc193730b",
   "metadata": {},
   "source": [
    "#### Second peak study"
   ]
  },
  {
   "cell_type": "code",
   "execution_count": null,
   "id": "17e32d4f-be47-4c90-8df3-928c8dfe37a3",
   "metadata": {},
   "outputs": [],
   "source": [
    "hist_1d = hist.Hist(hist.axis.Regular(85, 10, 100, name=name_x, label=label_x))  \n",
    "path_file = '/afs/cern.ch/work/m/mabarros/public/CMSSW_10_6_12/src/analysis_monte_carlo/2017/fit/data_root_files/DPS_MC_2017_10to30_no_trigger_asso_study.root'\n",
    "x, y = get_data(path_file, ttree, var_x, var_y)\n",
    "hist_1d.fill(x)\n",
    "fig, ax = plt.subplots()\n",
    "mplhep.cms.label(data=False,)\n",
    "mplhep.histplot(hist_1d, histtype='step')\n",
    "ax.set_ylabel('Counts')"
   ]
  },
  {
   "cell_type": "code",
   "execution_count": null,
   "id": "8afb8b98-2665-46df-b2d5-8f2918627e43",
   "metadata": {},
   "outputs": [],
   "source": []
  },
  {
   "cell_type": "markdown",
   "id": "b67386d9-9324-4826-89df-43229c2c8968",
   "metadata": {},
   "source": [
    "# SPS MC 2017"
   ]
  },
  {
   "cell_type": "markdown",
   "id": "8f091231-9936-4644-95c0-16769fda5818",
   "metadata": {},
   "source": [
    "## 2D plots"
   ]
  },
  {
   "cell_type": "markdown",
   "id": "71a95d3a-9350-43c0-a07d-4f2a9160a7f3",
   "metadata": {},
   "source": [
    "### Invariant mass: 0 to 100 GeV/c$^2$"
   ]
  },
  {
   "cell_type": "code",
   "execution_count": null,
   "id": "798d6805-45ea-48f3-bd47-cdb9e45ebacb",
   "metadata": {},
   "outputs": [],
   "source": [
    "path_file = '/afs/cern.ch/work/m/mabarros/public/CMSSW_10_6_12/src/analysis_monte_carlo/2017/SPS/fit/data_root_files/SPS_MC_2017_Jpsi_ccbar_3FS_no_trigger_asso_study.root'\n",
    "x, y = get_data(path_file, ttree, var_x, var_y)\n",
    "h_range = [[0, 400], [None, None]] #h_range = [[mass_inf, mass_sup], [delta_rap_inf, delta_rap_sup]]\n",
    "plot_hist(x, y, h_range, 100)"
   ]
  },
  {
   "cell_type": "markdown",
   "id": "5617d98f-0772-4283-b2e1-0c7a0b9003e2",
   "metadata": {},
   "source": [
    "## 1D plots"
   ]
  },
  {
   "cell_type": "markdown",
   "id": "d909c119-f8b1-45d5-a566-ac8f902599bc",
   "metadata": {},
   "source": [
    "#### First peak study"
   ]
  },
  {
   "cell_type": "code",
   "execution_count": null,
   "id": "cb60c9c9-dea2-4b56-b854-186a091bbdde",
   "metadata": {},
   "outputs": [],
   "source": [
    "hist_1d = hist.Hist(hist.axis.Regular(80, 0, 100, name=name_x, label=label_x))  \n",
    "path_file = '/afs/cern.ch/work/m/mabarros/public/CMSSW_10_6_12/src/analysis_monte_carlo/2017/SPS/fit/data_root_files/SPS_MC_2017_Jpsi_ccbar_3FS_no_trigger_asso_study.root'\n",
    "x, y = get_data(path_file, ttree, var_x, var_y)\n",
    "hist_1d.fill(x)\n",
    "fig, ax = plt.subplots()\n",
    "mplhep.cms.label(data=False)\n",
    "mplhep.histplot(hist_1d, histtype='step')\n",
    "ax.set_ylabel('Counts')"
   ]
  },
  {
   "cell_type": "markdown",
   "id": "3117094d-7a93-4872-8812-593c5f11a772",
   "metadata": {},
   "source": [
    "#### Second peak study"
   ]
  },
  {
   "cell_type": "code",
   "execution_count": null,
   "id": "6a01eaca-e82d-49b5-a998-6db89c6ff631",
   "metadata": {},
   "outputs": [],
   "source": [
    "hist_1d = hist.Hist(hist.axis.Regular(85, 10, 100, name=name_x, label=label_x))  \n",
    "path_file = '/afs/cern.ch/work/m/mabarros/public/CMSSW_10_6_12/src/analysis_monte_carlo/2017/SPS/fit/data_root_files/SPS_MC_2017_Jpsi_ccbar_3FS_no_trigger_asso_study.root'\n",
    "x, y = get_data(path_file, ttree, var_x, var_y)\n",
    "hist_1d.fill(x)\n",
    "fig, ax = plt.subplots()\n",
    "mplhep.cms.label(data=False,)\n",
    "mplhep.histplot(hist_1d, histtype='step')\n",
    "ax.set_ylabel('Counts')"
   ]
  },
  {
   "cell_type": "markdown",
   "id": "bcea28f1-34b1-4b02-ba70-246b5652a060",
   "metadata": {},
   "source": [
    "# TESTSSSSSSSSSSSSSSSS"
   ]
  },
  {
   "cell_type": "code",
   "execution_count": null,
   "id": "eda69a82-cea7-4124-b532-3f106d126e10",
   "metadata": {},
   "outputs": [],
   "source": [
    "#def plot(path_file, ttree, var_x, name_x, label_x, data):"
   ]
  },
  {
   "cell_type": "code",
   "execution_count": null,
   "id": "69516f06-dc5e-4f3f-a5fd-a5ef962634f0",
   "metadata": {},
   "outputs": [],
   "source": [
    "#https://hist.readthedocs.io/en/latest/user-guide/notebooks/Plots.html\n",
    "path_file = '/afs/cern.ch/work/m/mabarros/public/CMSSW_10_6_12/src/analysis_data/analysis_fit/fit/data_root_files/2017/2017_HLT_Dimuon25_d0.root'\n",
    "ttree = 'asso;1'\n",
    "var_x = 'dstar_d0dl'\n",
    "name_x = 'd0dl'\n",
    "#name_y = \"rap\"\n",
    "#var_y = 'jpsi_dstar_deltarap'\n",
    "label_x = r\"D$^0$ from D$^*$: Decay length [mm]\"\n",
    "#label_y = r\"$\\Delta y_{J/\\psi D*}$\"\n",
    "\n",
    "with uproot.open(path_file) as f:\n",
    "    #print(f.classnames())\n",
    "    # Takes the ttree objec (defined in save_ttree.py script)\n",
    "    tree_obj = f[ttree]\n",
    "    # Takes its arrays\n",
    "    branch_obj = tree_obj.arrays()\n",
    "\n",
    "    # Takes the composed object inv mass\n",
    "    dstar_d0dl = branch_obj[var_x]\n",
    "    # Takes the composed object delta y    \n",
    "    #jpsi_dstar_deltarap = branch_obj[var_y]\n",
    "hist_1d = hist.Hist(hist.axis.Regular(80, 0, 1.5, name=name_x, label=label_x))  \n",
    "hist_1d.fill(dstar_d0dl)\n",
    "fig, ax = plt.subplots()\n",
    "\n",
    "label = plt.text(0.05, 0.93, r\"2017 Data - 41.48 fb$^{-1}$\",\n",
    "                      fontsize=22,\n",
    "                      fontweight='bold',\n",
    "                      horizontalalignment='left',\n",
    "                      verticalalignment='bottom',\n",
    "                      transform=ax.transAxes\n",
    "                     )\n",
    "\n",
    "mplhep.cms.label(data=True,)\n",
    "mplhep.histplot(hist_1d, histtype='step')\n",
    "ax.set_ylabel('Counts')\n",
    "ax.set_ylim(0, 2500)"
   ]
  },
  {
   "cell_type": "code",
   "execution_count": null,
   "id": "79095d73-f26c-456a-ba3c-0e7ea201ff42",
   "metadata": {},
   "outputs": [],
   "source": [
    "path_file = '/afs/cern.ch/work/m/mabarros/public/CMSSW_10_6_12/src/analysis_data/analysis_fit/fit/data_root_files/2017/9to30_HLT_Dimuon25_d0dl.root'\n",
    "ttree = 'asso;1'\n",
    "var_x = 'dstar_d0dl'\n",
    "name_x = 'd0dl'\n",
    "#name_y = \"rap\"\n",
    "#var_y = 'jpsi_dstar_deltarap'\n",
    "label_x = r\"D$^0$ from D$^*$: Decay length\"\n",
    "#label_y = r\"$\\Delta y_{J/\\psi D*}$\"\n",
    "\n",
    "with uproot.open(path_file) as f:\n",
    "    #print(f.classnames())\n",
    "    # Takes the ttree objec (defined in save_ttree.py script)\n",
    "    tree_obj = f[ttree]\n",
    "    # Takes its arrays\n",
    "    branch_obj = tree_obj.arrays()\n",
    "\n",
    "    # Takes the composed object inv mass\n",
    "    dstar_d0dl = branch_obj[var_x]\n",
    "    # Takes the composed object delta y    \n",
    "    #jpsi_dstar_deltarap = branch_obj[var_y]\n",
    "hist_1d = hist.Hist(hist.axis.Regular(80, 0, 1.5, name=name_x, label=label_x))  \n",
    "hist_1d.fill(dstar_d0dl)\n",
    "\n",
    "fig, ax = plt.subplots()\n",
    "\n",
    "label = plt.text(0.05, 0.93, r\"DPS - 25 < MC: p$_T^{J/\\psi}$ < 30 GeV/c\",\n",
    "                      fontsize=22,\n",
    "                      fontweight='bold',\n",
    "                      horizontalalignment='left',\n",
    "                      verticalalignment='bottom',\n",
    "                      transform=ax.transAxes\n",
    "                     )\n",
    "\n",
    "mplhep.cms.label(data=False,)\n",
    "mplhep.histplot(hist_1d, histtype='step')\n",
    "ax.set_ylabel('Counts')\n",
    "ax.set_ylim(0, 150)"
   ]
  },
  {
   "cell_type": "code",
   "execution_count": null,
   "id": "ff034793-8d12-4a30-bc26-21f7e68d97d7",
   "metadata": {},
   "outputs": [],
   "source": [
    "path_file = '/afs/cern.ch/work/m/mabarros/public/CMSSW_10_6_12/src/analysis_data/analysis_fit/fit/data_root_files/2017/30to50_HLT_Dimuon25_d0dl.root'\n",
    "ttree = 'asso;1'\n",
    "var_x = 'dstar_d0dl'\n",
    "name_x = 'd0dl'\n",
    "#name_y = \"rap\"\n",
    "#var_y = 'jpsi_dstar_deltarap'\n",
    "label_x = r\"D$^0$ from D$^*$: Decay length\"\n",
    "#label_y = r\"$\\Delta y_{J/\\psi D*}$\"\n",
    "\n",
    "with uproot.open(path_file) as f:\n",
    "    #print(f.classnames())\n",
    "    # Takes the ttree objec (defined in save_ttree.py script)\n",
    "    tree_obj = f[ttree]\n",
    "    # Takes its arrays\n",
    "    branch_obj = tree_obj.arrays()\n",
    "\n",
    "    # Takes the composed object inv mass\n",
    "    dstar_d0dl = branch_obj[var_x]\n",
    "    # Takes the composed object delta y    \n",
    "    #jpsi_dstar_deltarap = branch_obj[var_y]\n",
    "hist_1d = hist.Hist(hist.axis.Regular(120, 0, 50, name=name_x, label=label_x))  \n",
    "hist_1d.fill(dstar_d0dl)\n",
    "\n",
    "fig, ax = plt.subplots()\n",
    "\n",
    "label = plt.text(0.05, 0.93, r\"DPS - 30 < MC: p$_T^{J/\\psi}$ < 50 GeV/c\",\n",
    "                      fontsize=22,\n",
    "                      fontweight='bold',\n",
    "                      horizontalalignment='left',\n",
    "                      verticalalignment='bottom',\n",
    "                      transform=ax.transAxes\n",
    "                     )\n",
    "\n",
    "mplhep.cms.label(data=False,)\n",
    "mplhep.histplot(hist_1d, histtype='step')\n",
    "ax.set_ylabel('Counts')\n",
    "ax.set_ylim(0, 2000)"
   ]
  },
  {
   "cell_type": "code",
   "execution_count": null,
   "id": "b3c2b73b-25b8-4f53-8fde-5fa74afc4a46",
   "metadata": {},
   "outputs": [],
   "source": [
    "path_file = '/afs/cern.ch/work/m/mabarros/public/CMSSW_10_6_12/src/analysis_data/analysis_fit/fit/data_root_files/2017/50to100_HLT_Dimuon25_d0dl.root'\n",
    "ttree = 'asso;1'\n",
    "var_x = 'dstar_d0dl'\n",
    "name_x = 'd0dl'\n",
    "#name_y = \"rap\"\n",
    "#var_y = 'jpsi_dstar_deltarap'\n",
    "label_x = r\"D$^0$ from D$^*$: Decay length\"\n",
    "#label_y = r\"$\\Delta y_{J/\\psi D*}$\"\n",
    "\n",
    "with uproot.open(path_file) as f:\n",
    "    #print(f.classnames())\n",
    "    # Takes the ttree objec (defined in save_ttree.py script)\n",
    "    tree_obj = f[ttree]\n",
    "    # Takes its arrays\n",
    "    branch_obj = tree_obj.arrays()\n",
    "\n",
    "    # Takes the composed object inv mass\n",
    "    dstar_d0dl = branch_obj[var_x]\n",
    "    # Takes the composed object delta y    \n",
    "    #jpsi_dstar_deltarap = branch_obj[var_y]\n",
    "hist_1d = hist.Hist(hist.axis.Regular(120, 0, 50, name=name_x, label=label_x))  \n",
    "hist_1d.fill(dstar_d0dl)\n",
    "\n",
    "fig, ax = plt.subplots()\n",
    "\n",
    "label = plt.text(0.05, 0.93, r\"DPS - 50 < MC: p$_T^{J/\\psi}$ < 100 GeV/c\",\n",
    "                      fontsize=22,\n",
    "                      fontweight='bold',\n",
    "                      horizontalalignment='left',\n",
    "                      verticalalignment='bottom',\n",
    "                      transform=ax.transAxes\n",
    "                     )\n",
    "\n",
    "mplhep.cms.label(data=False,)\n",
    "mplhep.histplot(hist_1d, histtype='step')\n",
    "ax.set_ylabel('Counts')\n",
    "ax.set_ylim(0, 1100)"
   ]
  },
  {
   "cell_type": "code",
   "execution_count": null,
   "id": "dbfea18b-8d7c-4331-bc6a-777bcf857605",
   "metadata": {},
   "outputs": [],
   "source": [
    "path_file = '/afs/cern.ch/work/m/mabarros/public/CMSSW_10_6_12/src/analysis_data/analysis_fit/fit/data_root_files/2017/100to150_HLT_Dimuon25_d0dl.root'\n",
    "ttree = 'asso;1'\n",
    "var_x = 'dstar_d0dl'\n",
    "name_x = 'd0dl'\n",
    "#name_y = \"rap\"\n",
    "#var_y = 'jpsi_dstar_deltarap'\n",
    "label_x = r\"D$^0$ from D$^*$: Decay length\"\n",
    "#label_y = r\"$\\Delta y_{J/\\psi D*}$\"\n",
    "\n",
    "with uproot.open(path_file) as f:\n",
    "    #print(f.classnames())\n",
    "    # Takes the ttree objec (defined in save_ttree.py script)\n",
    "    tree_obj = f[ttree]\n",
    "    # Takes its arrays\n",
    "    branch_obj = tree_obj.arrays()\n",
    "\n",
    "    # Takes the composed object inv mass\n",
    "    dstar_d0dl = branch_obj[var_x]\n",
    "    # Takes the composed object delta y    \n",
    "    #jpsi_dstar_deltarap = branch_obj[var_y]\n",
    "hist_1d = hist.Hist(hist.axis.Regular(120, 0, 50, name=name_x, label=label_x))  \n",
    "hist_1d.fill(dstar_d0dl)\n",
    "\n",
    "fig, ax = plt.subplots()\n",
    "\n",
    "label = plt.text(0.05, 0.93, r\"DPS - 100 < MC: p$_T^{J/\\psi}$ < 150 GeV/c\",\n",
    "                      fontsize=22,\n",
    "                      fontweight='bold',\n",
    "                      horizontalalignment='left',\n",
    "                      verticalalignment='bottom',\n",
    "                      transform=ax.transAxes\n",
    "                     )\n",
    "\n",
    "mplhep.cms.label(data=False,)\n",
    "mplhep.histplot(hist_1d, histtype='step')\n",
    "ax.set_ylabel('Counts')\n",
    "ax.set_ylim(0, 1600)"
   ]
  },
  {
   "cell_type": "code",
   "execution_count": null,
   "id": "e7892968-2c2a-4b7b-bb37-0733a9d1a21d",
   "metadata": {},
   "outputs": [],
   "source": [
    "path_file = '/afs/cern.ch/work/m/mabarros/public/CMSSW_10_6_12/src/analysis_data/analysis_fit/fit/data_root_files/2017/DPS_HLT_Dimuon25_d0dl.root'\n",
    "ttree = 'asso;1'\n",
    "var_x = 'dstar_d0dl'\n",
    "name_x = 'd0dl'\n",
    "#name_y = \"rap\"\n",
    "#var_y = 'jpsi_dstar_deltarap'\n",
    "label_x = r\"D$^0$ from D$^*$: Decay length\"\n",
    "#label_y = r\"$\\Delta y_{J/\\psi D*}$\"\n",
    "\n",
    "with uproot.open(path_file) as f:\n",
    "    #print(f.classnames())\n",
    "    # Takes the ttree objec (defined in save_ttree.py script)\n",
    "    tree_obj = f[ttree]\n",
    "    # Takes its arrays\n",
    "    branch_obj = tree_obj.arrays()\n",
    "\n",
    "    # Takes the composed object inv mass\n",
    "    dstar_d0dl = branch_obj[var_x]\n",
    "    # Takes the composed object delta y    \n",
    "    #jpsi_dstar_deltarap = branch_obj[var_y]\n",
    "hist_1d = hist.Hist(hist.axis.Regular(80, 0, 1.5, name=name_x, label=label_x))  \n",
    "hist_1d.fill(dstar_d0dl)\n",
    "\n",
    "fig, ax = plt.subplots()\n",
    "\n",
    "label = plt.text(0.05, 0.93, r\"DPS (Pythia8) - 25 < p$_T^{J/\\psi}$ < 150 GeV/c\",\n",
    "                      fontsize=22,\n",
    "                      fontweight='bold',\n",
    "                      horizontalalignment='left',\n",
    "                      verticalalignment='bottom',\n",
    "                      transform=ax.transAxes\n",
    "                     )\n",
    "\n",
    "mplhep.cms.label(data=False,)\n",
    "mplhep.histplot(hist_1d, histtype='step')\n",
    "ax.set_ylabel('Counts')\n",
    "ax.set_ylim(0, 12000)"
   ]
  },
  {
   "cell_type": "code",
   "execution_count": null,
   "id": "86869cdc-cf19-47f0-8236-47e2326a020c",
   "metadata": {},
   "outputs": [],
   "source": [
    "path_file = '/afs/cern.ch/work/m/mabarros/public/CMSSW_10_6_12/src/analysis_data/analysis_fit/fit/data_root_files/2017/sps_HLT_Dimuon25_d0dl.root'\n",
    "ttree = 'asso;1'\n",
    "var_x = 'dstar_d0dl'\n",
    "name_x = 'd0dl'\n",
    "#name_y = \"rap\"\n",
    "#var_y = 'jpsi_dstar_deltarap'\n",
    "label_x = r\"D$^0$ from D$^*$: Decay length\"\n",
    "#label_y = r\"$\\Delta y_{J/\\psi D*}$\"\n",
    "\n",
    "with uproot.open(path_file) as f:\n",
    "    #print(f.classnames())\n",
    "    # Takes the ttree objec (defined in save_ttree.py script)\n",
    "    tree_obj = f[ttree]\n",
    "    # Takes its arrays\n",
    "    branch_obj = tree_obj.arrays()\n",
    "\n",
    "    # Takes the composed object inv mass\n",
    "    dstar_d0dl = branch_obj[var_x]\n",
    "    # Takes the composed object delta y    \n",
    "    #jpsi_dstar_deltarap = branch_obj[var_y]\n",
    "hist_1d = hist.Hist(hist.axis.Regular(80, 0, 1.5, name=name_x, label=label_x))  \n",
    "hist_1d.fill(dstar_d0dl)\n",
    "\n",
    "fig, ax = plt.subplots()\n",
    "\n",
    "label = plt.text(0.05, 0.93, r\"SPS (3FS + 4FS) - 25 < p$_T^{J/\\psi}$ < 150 GeV/c\",\n",
    "                      fontsize=22,\n",
    "                      fontweight='bold',\n",
    "                      horizontalalignment='left',\n",
    "                      verticalalignment='bottom',\n",
    "                      transform=ax.transAxes\n",
    "                     )\n",
    "\n",
    "mplhep.cms.label(data=False,)\n",
    "mplhep.histplot(hist_1d, histtype='step')\n",
    "ax.set_ylabel('Counts')\n",
    "ax.set_ylim(0, 710)"
   ]
  },
  {
   "cell_type": "code",
   "execution_count": null,
   "id": "923fb54c-38f0-41be-bb72-d3c1d320f240",
   "metadata": {},
   "outputs": [],
   "source": [
    "path_file = '/afs/cern.ch/work/m/mabarros/public/CMSSW_10_6_12/src/analysis_data/analysis_fit/fit/data_root_files/2017/DPS_HLT_Dimuon25_d0dl.root'\n",
    "ttree = 'asso;1'\n",
    "var_x = 'dstar_d0dl'\n",
    "name_x = 'd0dl'\n",
    "#name_y = \"rap\"\n",
    "#var_y = 'jpsi_dstar_deltarap'\n",
    "label_x = r\"D$^0$ from D$^*$: Decay length\"\n",
    "#label_y = r\"$\\Delta y_{J/\\psi D*}$\"\n",
    "\n",
    "with uproot.open(path_file) as f:\n",
    "    #print(f.classnames())\n",
    "    # Takes the ttree objec (defined in save_ttree.py script)\n",
    "    tree_obj = f[ttree]\n",
    "    # Takes its arrays\n",
    "    branch_obj = tree_obj.arrays()\n",
    "\n",
    "    # Takes the composed object inv mass\n",
    "    dstar_d0dl = branch_obj[var_x]\n",
    "    # Takes the composed object delta y    \n",
    "    #jpsi_dstar_deltarap = branch_obj[var_y]\n",
    "hist_1d = hist.Hist(hist.axis.Regular(80, 0, 1.5, name=name_x, label=label_x))  \n",
    "hist_1d.fill(dstar_d0dl)\n",
    "\n",
    "fig, ax = plt.subplots()\n",
    "\n",
    "label = plt.text(0.05, 0.93, r\"DPS (Pythia8) - 25 < p$_T^{J/\\psi}$ < 150 GeV/c\",\n",
    "                      fontsize=22,\n",
    "                      fontweight='bold',\n",
    "                      horizontalalignment='left',\n",
    "                      verticalalignment='bottom',\n",
    "                      transform=ax.transAxes\n",
    "                     )\n",
    "\n",
    "mplhep.cms.label(data=False,)\n",
    "mplhep.histplot(hist_1d, histtype='step')\n",
    "ax.set_ylabel('Counts')\n",
    "ax.set_ylim(0, 12000)"
   ]
  },
  {
   "cell_type": "code",
   "execution_count": null,
   "id": "0b08ba64-4f6d-4e7e-8b48-28c000f4105e",
   "metadata": {},
   "outputs": [],
   "source": [
    "path_file = '/afs/cern.ch/work/m/mabarros/public/CMSSW_10_6_12/src/analysis_data/analysis_fit/fit/data_root_files/2018/bquarkjpsi_HLT_Dimuon25_d0dl.root'\n",
    "ttree = 'asso;1'\n",
    "var_x = 'dstar_d0dl'\n",
    "name_x = 'd0dl'\n",
    "#name_y = \"rap\"\n",
    "#var_y = 'jpsi_dstar_deltarap'\n",
    "label_x = r\"D$^0$ from D$^*$: Decay length\"\n",
    "#label_y = r\"$\\Delta y_{J/\\psi D*}$\"\n",
    "\n",
    "with uproot.open(path_file) as f:\n",
    "    #print(f.classnames())\n",
    "    # Takes the ttree objec (defined in save_ttree.py script)\n",
    "    tree_obj = f[ttree]\n",
    "    # Takes its arrays\n",
    "    branch_obj = tree_obj.arrays()\n",
    "\n",
    "    # Takes the composed object inv mass\n",
    "    dstar_d0dl = branch_obj[var_x]\n",
    "    # Takes the composed object delta y    \n",
    "    #jpsi_dstar_deltarap = branch_obj[var_y]\n",
    "hist_1d = hist.Hist(hist.axis.Regular(80, 0, 1.5, name=name_x, label=label_x))  \n",
    "hist_1d.fill(dstar_d0dl)\n",
    "\n",
    "fig, ax = plt.subplots()\n",
    "\n",
    "label = plt.text(0.05, 0.93, r\"'$b-quark -> J/\\psi$ - 25 < p$_T^{J/\\psi}$ < 150 GeV/c\",\n",
    "                      fontsize=22,\n",
    "                      fontweight='bold',\n",
    "                      horizontalalignment='left',\n",
    "                      verticalalignment='bottom',\n",
    "                      transform=ax.transAxes\n",
    "                     )\n",
    "\n",
    "mplhep.cms.label(data=False,)\n",
    "mplhep.histplot(hist_1d, histtype='step')\n",
    "ax.set_ylabel('Counts')\n",
    "ax.set_ylim(0, 25)"
   ]
  },
  {
   "cell_type": "code",
   "execution_count": null,
   "id": "cde4f67c-3d68-44de-bf6c-8ef98e935457",
   "metadata": {},
   "outputs": [],
   "source": []
  }
 ],
 "metadata": {
  "kernelspec": {
   "display_name": "Python 3 (ipykernel)",
   "language": "python",
   "name": "python3"
  },
  "language_info": {
   "codemirror_mode": {
    "name": "ipython",
    "version": 3
   },
   "file_extension": ".py",
   "mimetype": "text/x-python",
   "name": "python",
   "nbconvert_exporter": "python",
   "pygments_lexer": "ipython3",
   "version": "3.9.7"
  }
 },
 "nbformat": 4,
 "nbformat_minor": 5
}
