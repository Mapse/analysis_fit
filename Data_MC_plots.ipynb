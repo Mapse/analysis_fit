{
 "cells": [
  {
   "cell_type": "markdown",
   "metadata": {},
   "source": [
    "# J/Psi + D meson plots"
   ]
  },
  {
   "cell_type": "code",
   "execution_count": null,
   "metadata": {},
   "outputs": [],
   "source": [
    "import os\n",
    "from tqdm import tqdm\n",
    "import awkward as ak\n",
    "from coffea.util import load\n",
    "from coffea import hist\n",
    "import matplotlib.pyplot as plt\n",
    "import mplhep\n",
    "\n",
    "import numpy as np\n",
    "\n",
    "plt.style.use(mplhep.style.CMS)\n",
    "\n",
    "from coffea.nanoevents.methods import candidate\n",
    "ak.behavior.update(candidate.behavior)"
   ]
  },
  {
   "cell_type": "code",
   "execution_count": null,
   "metadata": {},
   "outputs": [],
   "source": [
    "#typ: data or mc\n",
    "def create_plot1d(hist1d, lumi, log=False, ax=None, typ=None):\n",
    "    \n",
    "    from matplotlib.offsetbox import AnchoredOffsetbox, TextArea\n",
    "    plt.style.use(mplhep.style.CMS)\n",
    "    plt.rcParams.update({\n",
    "        'font.size': 16,\n",
    "        'axes.titlesize': 18,\n",
    "        'axes.labelsize': 18,\n",
    "        'xtick.labelsize': 14,\n",
    "        'ytick.labelsize': 14\n",
    "    })\n",
    "    \n",
    "    if typ == 'data':\n",
    "        \n",
    "        data_err_opts = {\n",
    "        'linestyle': 'none',\n",
    "        'marker': '.',\n",
    "        'markersize': 10.,\n",
    "        'color': 'k',\n",
    "        'elinewidth': 1,\n",
    "        }\n",
    "        ax = hist.plot1d(hist1d, error_opts=data_err_opts)\n",
    "        \n",
    "        # CMS style\n",
    "    \n",
    "        CMS = plt.text(0.03, 0.93, \"CMS\",\n",
    "                      fontsize=22,\n",
    "                      fontweight='bold',\n",
    "                      horizontalalignment='left',\n",
    "                      verticalalignment='bottom',\n",
    "                      transform=ax.transAxes\n",
    "                     )\n",
    "        pre = plt.text(0.03, 0.88, \"Preliminary\",\n",
    "                      fontsize=19,\n",
    "                      fontstyle='italic',\n",
    "                      horizontalalignment='left',\n",
    "                      verticalalignment='bottom',\n",
    "                      transform=ax.transAxes\n",
    "                     )\n",
    "        lumi = plt.text(1., 1., r\"\" + lumi +  \" fb$^{-1}$ (13 TeV)\",\n",
    "                    fontsize=18,\n",
    "                    fontstyle='normal',\n",
    "                    horizontalalignment='right',\n",
    "                    verticalalignment='bottom',\n",
    "                    transform=ax.transAxes\n",
    "                   )\n",
    "        \n",
    "        \n",
    "    elif typ == 'mc':\n",
    "        \n",
    "        fill_opts = {\n",
    "        'alpha': 0.8,\n",
    "        'edgecolor':(0,0,0,.5)\n",
    "        }\n",
    "        \n",
    "        ax = hist.plot1d(hist1d, fill_opts=fill_opts)\n",
    "        \n",
    "        # CMS format\n",
    "        hfont = {'fontname':'Helvetica'}    \n",
    "        plt.text(0.13, 0.89, \"CMS\", fontdict=hfont,  fontweight='bold', transform=plt.gcf().transFigure)\n",
    "        plt.text(0.19, 0.89, \"Simulation\", fontdict=hfont, style='italic', transform=plt.gcf().transFigure)\n",
    "        \n",
    "    else:\n",
    "        \n",
    "        data_err_opts = {\n",
    "        'linestyle': 'none',\n",
    "        'marker': '.',\n",
    "        'markersize': 10.,\n",
    "        'color': 'k',\n",
    "        'elinewidth': 1,}\n",
    "        \n",
    "            \n",
    "        ax = hist.plot1d(hist1d, ax=ax)#, error_opts=data_err_opts)\n",
    "\n",
    "   \n",
    "    ax.legend().remove()\n",
    "    \n",
    "    return ax"
   ]
  },
  {
   "cell_type": "code",
   "execution_count": null,
   "metadata": {},
   "outputs": [],
   "source": [
    "## Function to compare hists\n",
    "\n",
    "def compare_data_mc(lumi, lb, hist_mc={}, hist_data=None, log=False, scale=None):\n",
    "\n",
    "\n",
    "    data_err_opts = {\n",
    "        'linestyle': 'none',\n",
    "        'marker': '.',\n",
    "        'markersize': 10.,\n",
    "        'color': 'k',\n",
    "        'elinewidth': 1,\n",
    "    }\n",
    "\n",
    "    # Data    \n",
    "    if hist_data is None:\n",
    "        print('No data histogram!')\n",
    "    else:\n",
    "        ax = hist.plot1d(\n",
    "            hist_data,\n",
    "            error_opts=data_err_opts,\n",
    "            #stack=True,\n",
    "        )\n",
    "        \n",
    "    for ht in hist_mc:\n",
    "        fill_opts = {\n",
    "        'alpha': 0.8,\n",
    "        'edgecolor':(0,0,0,.5),\n",
    "        'color' : hist_mc[ht],\n",
    "        }\n",
    "        \n",
    "        \n",
    "        #hist_scale_mc.scale(hist_mc[ht])\n",
    "        ax = hist.plot1d(\n",
    "            ht,\n",
    "            fill_opts=fill_opts,\n",
    "            stack=True,\n",
    "        )\n",
    "        \n",
    "    \n",
    "    leg = ax.legend()\n",
    "\n",
    "    CMS = plt.text(0.05, 0.93, \"CMS\",\n",
    "                      fontsize=22,\n",
    "                      fontweight='bold',\n",
    "                      horizontalalignment='left',\n",
    "                      verticalalignment='bottom',\n",
    "                      transform=ax.transAxes\n",
    "                     )\n",
    "    pre = plt.text(0.05, 0.88, \"Preliminary\",\n",
    "                      fontsize=19,\n",
    "                      fontstyle='italic',\n",
    "                      horizontalalignment='left',\n",
    "                      verticalalignment='bottom',\n",
    "                      transform=ax.transAxes\n",
    "                     )\n",
    "    lumi = plt.text(1., 1., lumi,\n",
    "                    fontsize=18,\n",
    "                    fontstyle='normal',\n",
    "                    horizontalalignment='right',\n",
    "                    verticalalignment='bottom',\n",
    "                    transform=ax.transAxes\n",
    "                   )\n",
    "\n",
    "    handles, labels = ax.get_legend_handles_labels()\n",
    "    #labels = ['$Data$','$DPS$','$SPS$', 'Bc to jpsi mu mu']#'$B_c$ $\\rightarrow$ $J/\\psi$ $\\mu\\mu$']\n",
    "    labels = lb\n",
    "    ax.legend(handles, labels, prop={'size': 16})\n",
    "\n",
    "    if log:\n",
    "        ax.set_yscale('log')\n",
    "        ax.set_ylim(1, None)\n",
    "    else:\n",
    "        ax.ticklabel_format(axis='y', style='sci', scilimits=(0,3), useMathText=True)\n",
    "  \n",
    "        \n",
    "    return ax"
   ]
  },
  {
   "cell_type": "code",
   "execution_count": null,
   "metadata": {},
   "outputs": [],
   "source": [
    "def calc_weight_area(histogram):\n",
    "    val = histogram.values()\n",
    "    weight = 0\n",
    "    try:\n",
    "        for i in val[()]:\n",
    "            weight = weight + i\n",
    "    except:\n",
    "        for i in val[(('right charge',))]:\n",
    "            weight = weight + i\n",
    "        \n",
    "    return weight**-1"
   ]
  },
  {
   "cell_type": "code",
   "execution_count": null,
   "metadata": {},
   "outputs": [],
   "source": [
    "def sum_accumulator(path):\n",
    "    files = []\n",
    "    with os.scandir(path) as aux:\n",
    "        for file in aux:\n",
    "            if file.name.endswith('.coffea') and (file.stat().st_size != 0):\n",
    "                files.append(file.path)\n",
    "    # Takes the first to start the accumulator\n",
    "    acc = load(files[0])    \n",
    "    # Take the length of the list\n",
    "    le_files = len(files) \n",
    "\n",
    "    for i in tqdm(range(1, le_files), desc=\"Processing\", unit=\"files\"):\n",
    "        # Suns the accumulator for each file\n",
    "\n",
    "        acc += load(files[i])\n",
    "    return acc"
   ]
  },
  {
   "cell_type": "markdown",
   "metadata": {},
   "source": [
    "# Reading data"
   ]
  },
  {
   "cell_type": "markdown",
   "metadata": {},
   "source": [
    "## No special cut (Last update: vtx0p05)"
   ]
  },
  {
   "cell_type": "code",
   "execution_count": null,
   "metadata": {},
   "outputs": [],
   "source": [
    "import hist\n",
    "from hist import Hist\n",
    "import mplhep\n",
    "mplhep.style.use(\"CMS\")"
   ]
  },
  {
   "cell_type": "code",
   "execution_count": null,
   "metadata": {},
   "outputs": [],
   "source": [
    "year='2017'\n",
    "#data_file = f'/afs/cern.ch/work/m/mabarros/public/CMSSW_10_6_12/src/analysis_data/analysis_fit/{year}/Charmonium_{year}_vtx0p05.coffea'\n",
    "data_file = f'/afs/cern.ch/work/m/mabarros/public/CMSSW_10_6_12/src/analysis_data/analysis_fit/{year}/Charmonium_{year}_sweight.coffea'\n",
    "\n",
    "data_acc = load(data_file)\n",
    "#data_file = '/afs/cern.ch/work/m/mabarros/public/CMSSW_10_6_12/src/analysis_data/analysis_fit/data/2017/RunB/merged_data/trigger/vtx0p05/RunB_HLT_Dimuon25_vtx0p05_jpsi_pt_bin1_25_100_0.coffea'\n",
    "\n",
    "#lumi='13.09'  #2016-pre-VFP\n",
    "#lumi='13.26'  #2016-pos-VFP\n",
    "lumi='41.48' #2017\n",
    "#lumi='57.69' #2018\n",
    "\n",
    "#dps_9to30_file = 'DPS/2017/9to30/DPS_vtx0p05.coffea'\n",
    "#dps_30to50_file = 'DPS/2017/30to50/DPS_vtx0p05.coffea'\n",
    "#dps_50to100_file = 'DPS/2017/50to100/DPS_vtx0p05.coffea'\n",
    "#dps_100to150_file = 'DPS/2017/100to150/DPS_100to150.coffea'\n",
    "\n",
    "#sps_25to150_file = 'SPS/2017/SPS_vtx0p05.coffea'\n",
    "\n",
    "#background_bdtojpsiksphi = 'background/BdToJpsiKSPhi/data_BdToJpsiKSPhi_trigger.coffea'\n",
    "save_path = f'/eos/user/m/mabarros/www/Analysis/Data_MC/{year}/'"
   ]
  },
  {
   "cell_type": "code",
   "execution_count": null,
   "metadata": {},
   "outputs": [],
   "source": [
    "ht.plot1d(data_acc['JpsiDstar']['Dstar_deltamr'])"
   ]
  },
  {
   "cell_type": "code",
   "execution_count": null,
   "metadata": {},
   "outputs": [],
   "source": [
    "#year='2017'\n",
    "# Takes accumulator\n",
    "path_dps_9to30 = f'/afs/cern.ch/work/m/mabarros/public/CMSSW_10_6_12/src/analysis_data/analysis_fit/data/{year}/dps_9to30/merged_data/'\n",
    "dps_9to30_acc = sum_accumulator(path_dps_9to30)\n",
    "\n",
    "path_dps_30to50 = f'/afs/cern.ch/work/m/mabarros/public/CMSSW_10_6_12/src/analysis_data/analysis_fit/data/{year}/dps_30to50/merged_data/'\n",
    "dps_30to50_acc = sum_accumulator(path_dps_30to50)\n",
    "\n",
    "path_dps_50to100 = f'/afs/cern.ch/work/m/mabarros/public/CMSSW_10_6_12/src/analysis_data/analysis_fit/data/{year}/dps_50to100/merged_data/'\n",
    "dps_50to100_acc = sum_accumulator(path_dps_50to100)"
   ]
  },
  {
   "cell_type": "code",
   "execution_count": null,
   "metadata": {},
   "outputs": [],
   "source": [
    "year='2017'\n",
    "path_sps_9to30 = f'/afs/cern.ch/work/m/mabarros/public/CMSSW_10_6_12/src/analysis_data/analysis_fit/data/{year}/sps_9to30/merged_data/'\n",
    "sps_9to30_acc = sum_accumulator(path_sps_9to30)\n",
    "\n",
    "path_sps_30to50 = f'/afs/cern.ch/work/m/mabarros/public/CMSSW_10_6_12/src/analysis_data/analysis_fit/data/{year}/sps_30to50/merged_data/'\n",
    "sps_30to50_acc = sum_accumulator(path_sps_30to50)\n",
    "\n",
    "path_sps_50to100 = f'/afs/cern.ch/work/m/mabarros/public/CMSSW_10_6_12/src/analysis_data/analysis_fit/data/{year}/sps_50to100/merged_data/'\n",
    "sps_50to100_acc = sum_accumulator(path_sps_50to100)"
   ]
  },
  {
   "cell_type": "code",
   "execution_count": null,
   "metadata": {},
   "outputs": [],
   "source": [
    "year='2018'\n",
    "background_bquark_jpsi_file = f'/afs/cern.ch/work/m/mabarros/public/CMSSW_10_6_12/src/analysis_data/analysis_fit/{year}/bquark_{year}_vtx0p05.coffea'\n",
    "background_bquark_acc = load(background_bquark_jpsi_file)"
   ]
  },
  {
   "cell_type": "code",
   "execution_count": null,
   "metadata": {},
   "outputs": [],
   "source": [
    "def stack_histo(data_acc, dps_9to30_acc, dps_30to50_acc, dps_50to100_acc, sps_9to30_acc, sps_30to50_acc, sps_50to100_acc, background_bquark_acc, nevt_data, typ, for_sum=None):\n",
    "    \n",
    "    if typ.startswith('Jpsi'):\n",
    "        if for_sum is None:\n",
    "            data_hist = data_acc['JpsiDstar'][typ]\n",
    "            dps_9to30_hist = dps_9to30_acc['JpsiDstar'][typ]\n",
    "            dps_30to50_hist = dps_30to50_acc['JpsiDstar'][typ]\n",
    "            dps_50to100_hist = dps_50to100_acc['JpsiDstar'][typ]\n",
    "\n",
    "            sps_9to30_hist = sps_9to30_acc['JpsiDstar'][typ]\n",
    "            sps_30to50_hist = sps_30to50_acc['JpsiDstar'][typ]\n",
    "            sps_50to100_hist = sps_50to100_acc['JpsiDstar'][typ]\n",
    "            \n",
    "            background_bquark_hist = background_bquark_acc['JpsiDstar'][typ]\n",
    "\n",
    "        else:\n",
    "            data_hist = data_acc['JpsiDstar'][typ].sum(for_sum[0], for_sum[1])\n",
    "            dps_9to30_hist = dps_9to30_acc['JpsiDstar'][typ].sum(for_sum[0], for_sum[1])\n",
    "            dps_30to50_hist = dps_30to50_acc['JpsiDstar'][typ].sum(for_sum[0], for_sum[1])\n",
    "            dps_50to100_hist = dps_50to100_acc['JpsiDstar'][typ].sum(for_sum[0], for_sum[1])\n",
    "\n",
    "            sps_9to30_hist = sps_9to30_acc['JpsiDstar'][typ].sum(for_sum[0], for_sum[1])\n",
    "            sps_30to50_hist = sps_30to50_acc['JpsiDstar'][typ].sum(for_sum[0], for_sum[1])\n",
    "            sps_50to100_hist = sps_50to100_acc['JpsiDstar'][typ].sum(for_sum[0], for_sum[1])\n",
    "            \n",
    "            background_bquark_hist = background_bquark_acc['JpsiDstar'][typ].sum(for_sum[0], for_sum[1])\n",
    "\n",
    "    elif typ.startswith('Dstar'):\n",
    "        if for_sum is None:\n",
    "            data_hist = data_acc['JpsiDstar'][typ].sum('chg')\n",
    "            dps_9to30_hist = dps_9to30_acc['JpsiDstar'][typ].sum('chg')\n",
    "            dps_30to50_hist = dps_30to50_acc['JpsiDstar'][typ].sum('chg')\n",
    "            dps_50to100_hist = dps_50to100_acc['JpsiDstar'][typ].sum('chg')\n",
    "\n",
    "            sps_9to30_hist = sps_9to30_acc['JpsiDstar'][typ].sum('chg')\n",
    "            sps_30to50_hist = sps_30to50_acc['JpsiDstar'][typ].sum('chg')\n",
    "            sps_50to100_hist = sps_50to100_acc['JpsiDstar'][typ].sum('chg')\n",
    "            \n",
    "            background_bquark_hist = background_bquark_acc['JpsiDstar'][typ].sum('chg')\n",
    "\n",
    "        else:\n",
    "            data_hist = data_acc['JpsiDstar'][typ].sum('chg', for_sum[0], for_sum[1])\n",
    "            dps_9to30_hist = dps_9to30_acc['JpsiDstar'][typ].sum('chg', for_sum[0], for_sum[1])\n",
    "            dps_30to50_hist = dps_30to50_acc['JpsiDstar'][typ].sum('chg', for_sum[0], for_sum[1])\n",
    "            dps_50to100_hist = dps_50to100_acc['JpsiDstar'][typ].sum('chg', for_sum[0], for_sum[1])\n",
    "\n",
    "            sps_9to30_hist = sps_9to30_acc['JpsiDstar'][typ].sum('chg', for_sum[0], for_sum[1])\n",
    "            sps_30to50_hist = sps_30to50_acc['JpsiDstar'][typ].sum('chg', for_sum[0], for_sum[1])\n",
    "            sps_50to100_hist = sps_50to100_acc['JpsiDstar'][typ].sum('chg', for_sum[0], for_sum[1])\n",
    "            \n",
    "            background_bquark_hist = background_bquark_acc['JpsiDstar'][typ].sum('chg', for_sum[0], for_sum[1])\n",
    "            \n",
    "    nevts_dps_9to30 = np.sum(dps_9to30_hist.values()[()])\n",
    "    nevts_dps_30to50 = np.sum(dps_30to50_hist.values()[()])\n",
    "    nevts_dps_50to100 = np.sum(dps_50to100_hist.values()[()])\n",
    "\n",
    "    nevts_sps_9to30 = np.sum(sps_9to30_hist.values()[()])\n",
    "    nevts_sps_30to50 = np.sum(sps_30to50_hist.values()[()])\n",
    "    nevts_sps_50to100 = np.sum(sps_50to100_hist.values()[()])\n",
    "    \n",
    "    nevts_background_bquark = np.sum(background_bquark_hist.values()[()])\n",
    "\n",
    "    dps_9to30_hist.scale(nevt_data/nevts_dps_9to30)\n",
    "    dps_30to50_hist.scale(nevt_data/nevts_dps_30to50)\n",
    "    dps_50to100_hist.scale(nevt_data/nevts_dps_50to100)\n",
    "\n",
    "    sps_9to30_hist.scale(nevt_data/nevts_sps_9to30)\n",
    "    sps_30to50_hist.scale(nevt_data/nevts_sps_30to50)\n",
    "    sps_50to100_hist.scale(nevt_data/nevts_sps_50to100)\n",
    "\n",
    "    dps_hist = dps_9to30_hist + dps_30to50_hist + dps_50to100_hist\n",
    "    sps_hist = sps_9to30_hist + sps_30to50_hist + sps_50to100_hist\n",
    "    \n",
    "    background_bquark_hist.scale(nevt_data/nevts_background_bquark)\n",
    "\n",
    "    data_nhist = data_hist.to_hist()\n",
    "    dps_nhist = dps_hist.to_hist()\n",
    "    sps_nhist = sps_hist.to_hist()\n",
    "    background_bquark_nhist = background_bquark_hist.to_hist()\n",
    "\n",
    "    s = hist.Stack.from_dict({\"DPS - Pythia8\": dps_nhist, \"SPS: 3FS + 4FS\": sps_nhist, \"b quark\": background_bquark_nhist})\n",
    "\n",
    "    #ax0 = dps_nhist.axes[0]\n",
    "    #X= dps_nhist.axes.centers\n",
    "    \n",
    "    fig, ax = plt.subplots()\n",
    "    \n",
    "    s[::-1].plot(stack=True, histtype=\"fill\")\n",
    "    data_nhist.plot(histtype='errorbar', label='data', color='black')\n",
    "    mplhep.cms.label('Preliminary', data=True, lumi=lumi, year=2017)\n",
    "    plt.legend()\n",
    "    \n",
    "    '''if log == True:\n",
    "        plt.yscale('log')\n",
    "    #print(for_sum)\n",
    "    \n",
    "    if  for_sum[0] is not None:\n",
    "        if 'eta' and 'phi' in for_sum:\n",
    "            plt.savefig(typ + '_pt_stack.png')\n",
    "                        \n",
    "        elif 'pt' and 'phi' in for_sum:\n",
    "            plt.savefig(typ + '_eta_stack.png')\n",
    "                        \n",
    "        elif 'pt' and 'eta' in for_sum: \n",
    "            plt.savefig(typ + '_phi_stack.png') \n",
    "    else:\n",
    "        plt.savefig(typ + '_stack.png')'''\n",
    "    \n",
    "    \n",
    "    return ax"
   ]
  },
  {
   "cell_type": "code",
   "execution_count": null,
   "metadata": {},
   "outputs": [],
   "source": [
    "def stack_histo(data_acc, dps_9to30_acc, dps_30to50_acc, dps_50to100_acc, sps_9to30_acc, sps_30to50_acc, sps_50to100_acc, nevt_data, typ, for_sum=None):\n",
    "    \n",
    "    if typ.startswith('Jpsi'):\n",
    "        if for_sum is None:\n",
    "            data_hist = data_acc['JpsiDstar'][typ]\n",
    "            dps_9to30_hist = dps_9to30_acc['JpsiDstar'][typ]\n",
    "            dps_30to50_hist = dps_30to50_acc['JpsiDstar'][typ]\n",
    "            dps_50to100_hist = dps_50to100_acc['JpsiDstar'][typ]\n",
    "\n",
    "            sps_9to30_hist = sps_9to30_acc['JpsiDstar'][typ]\n",
    "            sps_30to50_hist = sps_30to50_acc['JpsiDstar'][typ]\n",
    "            sps_50to100_hist = sps_50to100_acc['JpsiDstar'][typ]\n",
    "\n",
    "        else:\n",
    "            data_hist = data_acc['JpsiDstar'][typ].sum(for_sum[0], for_sum[1])\n",
    "            dps_9to30_hist = dps_9to30_acc['JpsiDstar'][typ].sum(for_sum[0], for_sum[1])\n",
    "            dps_30to50_hist = dps_30to50_acc['JpsiDstar'][typ].sum(for_sum[0], for_sum[1])\n",
    "            dps_50to100_hist = dps_50to100_acc['JpsiDstar'][typ].sum(for_sum[0], for_sum[1])\n",
    "\n",
    "            sps_9to30_hist = sps_9to30_acc['JpsiDstar'][typ].sum(for_sum[0], for_sum[1])\n",
    "            sps_30to50_hist = sps_30to50_acc['JpsiDstar'][typ].sum(for_sum[0], for_sum[1])\n",
    "            sps_50to100_hist = sps_50to100_acc['JpsiDstar'][typ].sum(for_sum[0], for_sum[1])\n",
    "\n",
    "    elif typ.startswith('Dstar'):\n",
    "        if for_sum is None:\n",
    "            data_hist = data_acc['JpsiDstar'][typ].sum('chg')\n",
    "            dps_9to30_hist = dps_9to30_acc['JpsiDstar'][typ].sum('chg')\n",
    "            dps_30to50_hist = dps_30to50_acc['JpsiDstar'][typ].sum('chg')\n",
    "            dps_50to100_hist = dps_50to100_acc['JpsiDstar'][typ].sum('chg')\n",
    "\n",
    "            sps_9to30_hist = sps_9to30_acc['JpsiDstar'][typ].sum('chg')\n",
    "            sps_30to50_hist = sps_30to50_acc['JpsiDstar'][typ].sum('chg')\n",
    "            sps_50to100_hist = sps_50to100_acc['JpsiDstar'][typ].sum('chg')\n",
    "\n",
    "        else:\n",
    "            data_hist = data_acc['JpsiDstar'][typ].sum('chg', for_sum[0], for_sum[1])\n",
    "            dps_9to30_hist = dps_9to30_acc['JpsiDstar'][typ].sum('chg', for_sum[0], for_sum[1])\n",
    "            dps_30to50_hist = dps_30to50_acc['JpsiDstar'][typ].sum('chg', for_sum[0], for_sum[1])\n",
    "            dps_50to100_hist = dps_50to100_acc['JpsiDstar'][typ].sum('chg', for_sum[0], for_sum[1])\n",
    "\n",
    "            sps_9to30_hist = sps_9to30_acc['JpsiDstar'][typ].sum('chg', for_sum[0], for_sum[1])\n",
    "            sps_30to50_hist = sps_30to50_acc['JpsiDstar'][typ].sum('chg', for_sum[0], for_sum[1])\n",
    "            sps_50to100_hist = sps_50to100_acc['JpsiDstar'][typ].sum('chg', for_sum[0], for_sum[1])\n",
    "            \n",
    "    nevts_dps_9to30 = np.sum(dps_9to30_hist.values()[()])\n",
    "    nevts_dps_30to50 = np.sum(dps_30to50_hist.values()[()])\n",
    "    nevts_dps_50to100 = np.sum(dps_50to100_hist.values()[()])\n",
    "\n",
    "    nevts_sps_9to30 = np.sum(sps_9to30_hist.values()[()])\n",
    "    nevts_sps_30to50 = np.sum(sps_30to50_hist.values()[()])\n",
    "    nevts_sps_50to100 = np.sum(sps_50to100_hist.values()[()])\n",
    "\n",
    "    dps_9to30_hist.scale(nevt_data/nevts_dps_9to30)\n",
    "    dps_30to50_hist.scale(nevt_data/nevts_dps_30to50)\n",
    "    dps_50to100_hist.scale(nevt_data/nevts_dps_50to100)\n",
    "\n",
    "    sps_9to30_hist.scale(nevt_data/nevts_sps_9to30)\n",
    "    sps_30to50_hist.scale(nevt_data/nevts_sps_30to50)\n",
    "    sps_50to100_hist.scale(nevt_data/nevts_sps_50to100)\n",
    "\n",
    "    dps_hist = dps_9to30_hist + dps_30to50_hist + dps_50to100_hist\n",
    "    sps_hist = sps_9to30_hist + sps_30to50_hist + sps_50to100_hist\n",
    "\n",
    "    data_nhist = data_hist.to_hist()\n",
    "    dps_nhist = dps_hist.to_hist()\n",
    "    sps_nhist = sps_hist.to_hist()\n",
    "\n",
    "    s = hist.Stack.from_dict({\"DPS - Pythia8\": dps_nhist, \"SPS: 3FS + 4FS\": sps_nhist})\n",
    "\n",
    "    #ax0 = dps_nhist.axes[0]\n",
    "    #X= dps_nhist.axes.centers\n",
    "    \n",
    "    fig, ax = plt.subplots()\n",
    "    \n",
    "    s[::-1].plot(stack=True, histtype=\"fill\")\n",
    "    data_nhist.plot(histtype='errorbar', label='data', color='black')\n",
    "    mplhep.cms.label('Preliminary', data=True, lumi=lumi, year=2017)\n",
    "    plt.legend()\n",
    "    \n",
    "    '''if log == True:\n",
    "        plt.yscale('log')\n",
    "    #print(for_sum)\n",
    "    \n",
    "    if  for_sum[0] is not None:\n",
    "        if 'eta' and 'phi' in for_sum:\n",
    "            plt.savefig(typ + '_pt_stack.png')\n",
    "                        \n",
    "        elif 'pt' and 'phi' in for_sum:\n",
    "            plt.savefig(typ + '_eta_stack.png')\n",
    "                        \n",
    "        elif 'pt' and 'eta' in for_sum: \n",
    "            plt.savefig(typ + '_phi_stack.png') \n",
    "    else:\n",
    "        plt.savefig(typ + '_stack.png')'''\n",
    "    \n",
    "    \n",
    "    return ax"
   ]
  },
  {
   "cell_type": "code",
   "execution_count": null,
   "metadata": {},
   "outputs": [],
   "source": [
    "#nevt_data = 2321 # 2016-pre-VFP\n",
    "#nevt_data = 1993 # 2016-pos-VFP\n",
    "nevt_data = 4919.58#4950 # 2017\n",
    "#nevt_data = 6989 # 2018"
   ]
  },
  {
   "cell_type": "code",
   "execution_count": 21,
   "metadata": {},
   "outputs": [
    {
     "data": {
      "image/png": "[encoded data removed]",
      "text/plain": [
       "<Figure size 720x720 with 1 Axes>"
      ]
     },
     "metadata": {
      "needs_background": "light"
     },
     "output_type": "display_data"
    }
   ],
   "source": [
    "ax = stack_histo(data_acc, dps_9to30_acc, dps_30to50_acc, dps_50to100_acc, sps_9to30_acc, sps_30to50_acc, sps_50to100_acc,# background_bquark_acc,\n",
    "            nevt_data, \n",
    "            typ='Jpsi_mass', \n",
    "            for_sum=None)\n",
    "ax.set_ylabel('Events/bin')\n",
    "plt.savefig(f'Jpsi_mass_stack_{year}.png')\n",
    "plt.show()"
   ]
  },
  {
   "cell_type": "code",
   "execution_count": null,
   "metadata": {},
   "outputs": [],
   "source": [
    "ax = stack_histo(data_acc, dps_9to30_acc, dps_30to50_acc, dps_50to100_acc, sps_9to30_acc, sps_30to50_acc, sps_50to100_acc, background_bquark_acc,\n",
    "            nevt_data, \n",
    "            typ='Jpsi_p', \n",
    "            for_sum=['eta', 'phi'])\n",
    "plt.yscale('log')\n",
    "ax.set_ylabel('Events/bin')\n",
    "plt.savefig(f'Jpsi_pt_stack_{year}.png')\n",
    "plt.show()"
   ]
  },
  {
   "cell_type": "code",
   "execution_count": null,
   "metadata": {},
   "outputs": [],
   "source": [
    "ax = stack_histo(data_acc, dps_9to30_acc, dps_30to50_acc, dps_50to100_acc, sps_9to30_acc, sps_30to50_acc, sps_50to100_acc, background_bquark_acc,\n",
    "            nevt_data, \n",
    "            typ='Jpsi_p', \n",
    "            for_sum=['pt', 'phi'])\n",
    "#plt.yscale('log')\n",
    "ax.set_ylabel('Events/bin')\n",
    "plt.savefig(f'Jpsi_eta_stack_{year}.png')\n",
    "plt.show()"
   ]
  },
  {
   "cell_type": "code",
   "execution_count": null,
   "metadata": {},
   "outputs": [],
   "source": [
    "ax = stack_histo(data_acc, dps_9to30_acc, dps_30to50_acc, dps_50to100_acc, sps_9to30_acc, sps_30to50_acc, sps_50to100_acc, background_bquark_acc,\n",
    "            nevt_data, \n",
    "            typ='Jpsi_p', \n",
    "            for_sum=['pt', 'eta'])\n",
    "#plt.yscale('log')\n",
    "ax.set_ylabel('Events/bin')\n",
    "plt.savefig(f'Jpsi_phi_stack_{year}.png')\n",
    "plt.show()"
   ]
  },
  {
   "cell_type": "code",
   "execution_count": null,
   "metadata": {},
   "outputs": [],
   "source": [
    "ax = stack_histo(data_acc, dps_9to30_acc, dps_30to50_acc, dps_50to100_acc, sps_9to30_acc, sps_30to50_acc, sps_50to100_acc, background_bquark_acc,\n",
    "            nevt_data, \n",
    "            typ='Jpsi_rap', \n",
    "            for_sum=None)\n",
    "#plt.yscale('log')\n",
    "ax.set_ylabel('Events/bin')\n",
    "plt.savefig(f'Jpsi_rap_stack_{year}.png')\n",
    "plt.show()"
   ]
  },
  {
   "cell_type": "code",
   "execution_count": null,
   "metadata": {},
   "outputs": [],
   "source": [
    "ax = stack_histo(data_acc, dps_9to30_acc, dps_30to50_acc, dps_50to100_acc, sps_9to30_acc, sps_30to50_acc, sps_50to100_acc,# background_bquark_acc,\n",
    "            nevt_data, \n",
    "            typ='Jpsi_dl',\n",
    "            for_sum=None)\n",
    "plt.yscale('log')\n",
    "ax.set_ylabel('Events/bin')\n",
    "plt.savefig(f'Jpsi_dl_stack_{year}.png')\n",
    "plt.show()"
   ]
  },
  {
   "cell_type": "code",
   "execution_count": null,
   "metadata": {},
   "outputs": [],
   "source": [
    "ax = stack_histo(data_acc, dps_9to30_acc, dps_30to50_acc, dps_50to100_acc, sps_9to30_acc, sps_30to50_acc, sps_50to100_acc, background_bquark_acc,\n",
    "            nevt_data, \n",
    "            typ='Dstar_deltamr',\n",
    "            for_sum=None)\n",
    "#plt.yscale('log')\n",
    "ax.set_ylabel('Events/bin')\n",
    "ax.set_xlabel(r'M$_{k\\pi\\pi}$ - M$_{k\\pi}$ [GeV/c$^2$]')\n",
    "plt.savefig(f'Dstar_deltamr_stack_{year}.png')\n",
    "plt.show()"
   ]
  },
  {
   "cell_type": "code",
   "execution_count": null,
   "metadata": {},
   "outputs": [],
   "source": [
    "ax = stack_histo(data_acc, dps_9to30_acc, dps_30to50_acc, dps_50to100_acc, sps_9to30_acc, sps_30to50_acc, sps_50to100_acc, background_bquark_acc,\n",
    "            nevt_data, \n",
    "            typ='Dstar_p',\n",
    "            for_sum=['eta', 'phi'])\n",
    "plt.yscale('log')\n",
    "ax.set_ylabel('Events/bin')\n",
    "plt.savefig(f'Dstar_pt_stack_{year}.png')\n",
    "plt.show()"
   ]
  },
  {
   "cell_type": "code",
   "execution_count": null,
   "metadata": {},
   "outputs": [],
   "source": [
    "ax = stack_histo(data_acc, dps_9to30_acc, dps_30to50_acc, dps_50to100_acc, sps_9to30_acc, sps_30to50_acc, sps_50to100_acc, background_bquark_acc,\n",
    "            nevt_data, \n",
    "            typ='Dstar_p',\n",
    "            for_sum=['pt', 'phi'])\n",
    "#plt.yscale('log')\n",
    "ax.set_ylabel('Events/bin')\n",
    "plt.savefig(f'Dstar_eta_stack_{year}.png')\n",
    "plt.show()"
   ]
  },
  {
   "cell_type": "code",
   "execution_count": null,
   "metadata": {},
   "outputs": [],
   "source": [
    "ax = stack_histo(data_acc, dps_9to30_acc, dps_30to50_acc, dps_50to100_acc, sps_9to30_acc, sps_30to50_acc, sps_50to100_acc, background_bquark_acc,\n",
    "            nevt_data, \n",
    "            typ='Dstar_p',\n",
    "            for_sum=['pt', 'eta'])\n",
    "#plt.yscale('log')\n",
    "ax.set_ylabel('Events/bin')\n",
    "plt.savefig(f'Dstar_phi_stack_{year}.png')\n",
    "plt.show()"
   ]
  },
  {
   "cell_type": "code",
   "execution_count": null,
   "metadata": {},
   "outputs": [],
   "source": [
    "ax = stack_histo(data_acc, dps_9to30_acc, dps_30to50_acc, dps_50to100_acc, sps_9to30_acc, sps_30to50_acc, sps_50to100_acc, background_bquark_acc,\n",
    "            nevt_data, \n",
    "            typ='Dstar_rap',\n",
    "            for_sum=None)\n",
    "#plt.yscale('log')\n",
    "ax.set_ylabel('Events/bin')\n",
    "plt.savefig(f'Dstar_rap_stack_{year}.png')\n",
    "plt.show()"
   ]
  },
  {
   "cell_type": "code",
   "execution_count": null,
   "metadata": {},
   "outputs": [],
   "source": [
    "ax = stack_histo(data_acc, dps_9to30_acc, dps_30to50_acc, dps_50to100_acc, sps_9to30_acc, sps_30to50_acc, sps_50to100_acc, background_bquark_acc,\n",
    "            nevt_data, \n",
    "            typ='JpsiDstar_mass',\n",
    "            for_sum=None)\n",
    "#plt.yscale('log')\n",
    "ax.set_ylabel('Events/bin')\n",
    "plt.savefig(f'JpsiDstar_mass_stack_{year}.png')\n",
    "plt.show()"
   ]
  },
  {
   "cell_type": "code",
   "execution_count": null,
   "metadata": {},
   "outputs": [],
   "source": [
    "ax = stack_histo(data_acc, dps_9to30_acc, dps_30to50_acc, dps_50to100_acc, sps_9to30_acc, sps_30to50_acc, sps_50to100_acc, background_bquark_acc,\n",
    "            nevt_data, \n",
    "            typ='JpsiDstar_deltarap',\n",
    "            for_sum=None)\n",
    "#plt.yscale('log')\n",
    "ax.set_ylabel('Events/bin')\n",
    "plt.savefig(f'JpsiDstar_deltarap_stack_{year}.png')\n",
    "plt.show()"
   ]
  },
  {
   "cell_type": "code",
   "execution_count": null,
   "metadata": {},
   "outputs": [],
   "source": [
    "ax = stack_histo(data_acc, dps_9to30_acc, dps_30to50_acc, dps_50to100_acc, sps_9to30_acc, sps_30to50_acc, sps_50to100_acc, background_bquark_acc,\n",
    "            nevt_data, \n",
    "            typ=f'JpsiDstar_deltaphi',\n",
    "            for_sum=None)\n",
    "#plt.yscale('log')\n",
    "ax.set_ylabel('Events/bin')\n",
    "plt.savefig(f'JpsiDstar_deltaphi_stack_{year}.png')\n",
    "plt.show()"
   ]
  },
  {
   "cell_type": "code",
   "execution_count": null,
   "metadata": {},
   "outputs": [],
   "source": []
  },
  {
   "cell_type": "code",
   "execution_count": null,
   "metadata": {},
   "outputs": [],
   "source": [
    "'eta' in None"
   ]
  },
  {
   "cell_type": "code",
   "execution_count": null,
   "metadata": {},
   "outputs": [],
   "source": []
  },
  {
   "cell_type": "code",
   "execution_count": null,
   "metadata": {},
   "outputs": [],
   "source": [
    "typ = 'Jpsi_p'\n",
    "for_sum= ['eta', 'phi']\n",
    "#for_sum = None\n",
    "data_acc = load(data_file)\n",
    "\n",
    "nevt_data = 4950\n",
    "\n",
    "dps_9to30_acc = dps_9to30_file\n",
    "dps_30to50_acc = dps_30to50_file\n",
    "dps_50to100_acc = dps_50to100_file\n",
    "\n",
    "sps_9to30_acc = sps_9to30_file\n",
    "sps_30to50_acc = sps_30to50_file\n",
    "sps_50to100_acc = sps_50to100_file\n",
    "\n"
   ]
  },
  {
   "cell_type": "code",
   "execution_count": null,
   "metadata": {},
   "outputs": [],
   "source": [
    "if typ.startswith('Jpsi'):\n",
    "    if for_sum is None:\n",
    "        data_hist = data_acc['JpsiDstar'][typ]\n",
    "        dps_9to30_hist = dps_9to30_acc['JpsiDstar'][typ]\n",
    "        dps_30to50_hist = dps_30to50_acc['JpsiDstar'][typ]\n",
    "        dps_50to100_hist = dps_50to100_acc['JpsiDstar'][typ]\n",
    "\n",
    "        sps_9to30_hist = sps_9to30_acc['JpsiDstar'][typ]\n",
    "        sps_30to50_hist = sps_30to50_acc['JpsiDstar'][typ]\n",
    "        sps_50to100_hist = sps_50to100_acc['JpsiDstar'][typ]\n",
    "        \n",
    "    else:\n",
    "        data_hist = data_acc['JpsiDstar'][typ].sum(for_sum[0], for_sum[1])\n",
    "        dps_9to30_hist = dps_9to30_acc['JpsiDstar'][typ].sum(for_sum[0], for_sum[1])\n",
    "        dps_30to50_hist = dps_30to50_acc['JpsiDstar'][typ].sum(for_sum[0], for_sum[1])\n",
    "        dps_50to100_hist = dps_50to100_acc['JpsiDstar'][typ].sum(for_sum[0], for_sum[1])\n",
    "\n",
    "        sps_9to30_hist = sps_9to30_acc['JpsiDstar'][typ].sum(for_sum[0], for_sum[1])\n",
    "        sps_30to50_hist = sps_30to50_acc['JpsiDstar'][typ].sum(for_sum[0], for_sum[1])\n",
    "        sps_50to100_hist = sps_50to100_acc['JpsiDstar'][typ].sum(for_sum[0], for_sum[1])\n",
    "        \n",
    "elif typ.startswith('Dstar'):\n",
    "    if for_sum is None:\n",
    "        data_hist = data_acc['JpsiDstar'][typ].sum('chg')\n",
    "        dps_9to30_hist = dps_9to30_acc['JpsiDstar'][typ].sum('chg')\n",
    "        dps_30to50_hist = dps_30to50_acc['JpsiDstar'][typ].sum('chg')\n",
    "        dps_50to100_hist = dps_50to100_acc['JpsiDstar'][typ].sum('chg')\n",
    "\n",
    "        sps_9to30_hist = sps_9to30_acc['JpsiDstar'][typ].sum('chg')\n",
    "        sps_30to50_hist = sps_30to50_acc['JpsiDstar'][typ].sum('chg')\n",
    "        sps_50to100_hist = sps_50to100_acc['JpsiDstar'][typ].sum('chg')\n",
    "        \n",
    "    else:\n",
    "        data_hist = data_acc['JpsiDstar'][typ].sum('chg', for_sum[0], for_sum[1])\n",
    "        dps_9to30_hist = dps_9to30_acc['JpsiDstar'][typ].sum('chg', for_sum[0], for_sum[1])\n",
    "        dps_30to50_hist = dps_30to50_acc['JpsiDstar'][typ].sum('chg', for_sum[0], for_sum[1])\n",
    "        dps_50to100_hist = dps_50to100_acc['JpsiDstar'][typ].sum('chg', for_sum[0], for_sum[1])\n",
    "\n",
    "        sps_9to30_hist = sps_9to30_acc['JpsiDstar'][typ].sum('chg', for_sum[0], for_sum[1])\n",
    "        sps_30to50_hist = sps_30to50_acc['JpsiDstar'][typ].sum('chg', for_sum[0], for_sum[1])\n",
    "        sps_50to100_hist = sps_50to100_acc['JpsiDstar'][typ].sum('chg', for_sum[0], for_sum[1])"
   ]
  },
  {
   "cell_type": "code",
   "execution_count": null,
   "metadata": {},
   "outputs": [],
   "source": [
    "nevts_dps_9to30 = np.sum(dps_9to30_hist.values()[()])\n",
    "nevts_dps_30to50 = np.sum(dps_30to50_hist.values()[()])\n",
    "nevts_dps_50to100 = np.sum(dps_50to100_hist.values()[()])\n",
    "\n",
    "nevts_sps_9to30 = np.sum(sps_9to30_hist.values()[()])\n",
    "nevts_sps_30to50 = np.sum(sps_30to50_hist.values()[()])\n",
    "nevts_sps_50to100 = np.sum(sps_50to100_hist.values()[()])\n",
    "\n",
    "dps_9to30_hist.scale(nevt_data/nevts_dps_9to30)\n",
    "dps_30to50_hist.scale(nevt_data/nevts_dps_30to50)\n",
    "dps_50to100_hist.scale(nevt_data/nevts_dps_50to100)\n",
    "\n",
    "sps_9to30_hist.scale(nevt_data/nevts_sps_9to30)\n",
    "sps_30to50_hist.scale(nevt_data/nevts_sps_30to50)\n",
    "sps_50to100_hist.scale(nevt_data/nevts_sps_50to100)\n",
    "\n",
    "dps_hist = dps_9to30_hist + dps_30to50_hist + dps_50to100_hist\n",
    "sps_hist = sps_9to30_hist + sps_30to50_hist + sps_50to100_hist"
   ]
  },
  {
   "cell_type": "code",
   "execution_count": null,
   "metadata": {},
   "outputs": [],
   "source": [
    "data_nhist = data_hist.to_hist()\n",
    "dps_nhist = dps_hist.to_hist()\n",
    "sps_nhist = sps_hist.to_hist()"
   ]
  },
  {
   "cell_type": "code",
   "execution_count": null,
   "metadata": {},
   "outputs": [],
   "source": [
    "s[::-1].plot(stack=True, histtype=\"fill\")\n",
    "data_nhist.plot(histtype='errorbar', label='data', color='black')\n",
    "mplhep.cms.label('Preliminary', data=True, lumi=41.48, year=2017)\n",
    "plt.legend()\n",
    "plt.yscale('log')\n",
    "#plt.savefig(typ + '_stack.png')\n",
    "plt.show()"
   ]
  },
  {
   "cell_type": "code",
   "execution_count": null,
   "metadata": {},
   "outputs": [],
   "source": []
  },
  {
   "cell_type": "code",
   "execution_count": null,
   "metadata": {},
   "outputs": [],
   "source": []
  },
  {
   "cell_type": "code",
   "execution_count": null,
   "metadata": {},
   "outputs": [],
   "source": []
  },
  {
   "cell_type": "code",
   "execution_count": null,
   "metadata": {},
   "outputs": [],
   "source": []
  },
  {
   "cell_type": "markdown",
   "metadata": {},
   "source": [
    "## "
   ]
  },
  {
   "cell_type": "code",
   "execution_count": null,
   "metadata": {},
   "outputs": [],
   "source": []
  },
  {
   "cell_type": "code",
   "execution_count": null,
   "metadata": {},
   "outputs": [],
   "source": []
  },
  {
   "cell_type": "code",
   "execution_count": null,
   "metadata": {},
   "outputs": [],
   "source": []
  },
  {
   "cell_type": "markdown",
   "metadata": {},
   "source": [
    "## decay length < 0.06 mm (Stefanos)"
   ]
  },
  {
   "cell_type": "code",
   "execution_count": null,
   "metadata": {},
   "outputs": [],
   "source": [
    "data_file = '2017/Charmonium_2017_dl0p06.coffea'\n",
    "lumi='41.48 fb$^{-1}$'\n",
    "\n",
    "dps_9to30_file = 'DPS/9to30/DPS_9to30_dl0p06.coffea'\n",
    "dps_30to50_file = 'DPS/30to50/DPS_30to50_dl0p06.coffea'\n",
    "dps_50to100_file = 'DPS/50to100/DPS_50to100_dl0p06.coffea'\n",
    "dps_100to150_file = 'DPS/100to150/DPS_100to150_dl0p06.coffea'\n",
    "\n",
    "sps_25to150_file = 'SPS/SPS_dl0p06.coffea'\n",
    "\n",
    "background_bquark_jpsi_file = 'bquark/bquark_dl0p06.coffea'\n",
    "#background_bdtojpsiksphi = 'background/BdToJpsiKSPhi/data_BdToJpsiKSPhi_trigger.coffea'"
   ]
  },
  {
   "cell_type": "markdown",
   "metadata": {},
   "source": [
    "## vtxProb > 0.1 and decay length < 0.06 mm (Stefanos)"
   ]
  },
  {
   "cell_type": "code",
   "execution_count": null,
   "metadata": {},
   "outputs": [],
   "source": [
    "data_file = '2017/Charmonium_2017_dl0p06vtxprob0p1.coffea'\n",
    "lumi='41.48 fb$^{-1}$'\n",
    "\n",
    "dps_9to30_file = 'DPS/9to30/DPS_9to30_dl0p06vtxprob0p1.coffea'\n",
    "dps_30to50_file = 'DPS/30to50/DPS_30to50_dl0p06vtxprob0p1.coffea'\n",
    "dps_50to100_file = 'DPS/50to100/DPS_50to100_dl0p06vtxprob0p1.coffea'\n",
    "dps_100to150_file = 'DPS/100to150/DPS_100to150_dl0p06vtxprob0p1.coffea'\n",
    "\n",
    "sps_25to150_file = 'SPS/SPS_dl0p06vtxprob0p1.coffea'\n",
    "\n",
    "background_bquark_jpsi_file = 'bquark/bquark_dl0p06vtxprob0p1.coffea'\n",
    "#background_bdtojpsiksphi = 'background/BdToJpsiKSPhi/data_BdToJpsiKSPhi_trigger.coffea'"
   ]
  },
  {
   "cell_type": "markdown",
   "metadata": {},
   "source": [
    "# Associated Particles"
   ]
  },
  {
   "cell_type": "markdown",
   "metadata": {},
   "source": [
    "# Comparison Monte Carlo With data"
   ]
  },
  {
   "cell_type": "markdown",
   "metadata": {},
   "source": [
    "## Weights"
   ]
  },
  {
   "cell_type": "markdown",
   "metadata": {},
   "source": [
    "### DPS 9 to 30 GeV"
   ]
  },
  {
   "cell_type": "code",
   "execution_count": null,
   "metadata": {},
   "outputs": [],
   "source": [
    "luminosity = 41.53/10**(-15) \n",
    "xsec_9to30 = 494*1e-12\n",
    "Nevts_9to30=4895376 \n",
    "Weight_dps_9to30=luminosity*xsec_9to30/Nevts_9to30\n",
    "Weight_dps_9to30"
   ]
  },
  {
   "cell_type": "markdown",
   "metadata": {},
   "source": [
    "### DPS 30 to 50 GeV"
   ]
  },
  {
   "cell_type": "code",
   "execution_count": null,
   "metadata": {},
   "outputs": [],
   "source": [
    "luminosity = 41.53/10**(-15) \n",
    "xsec_30to50 = 0.29*1e-12\n",
    "Nevts_30to50=1095994 \n",
    "Weight_dps_30to50=luminosity*xsec_30to50/Nevts_30to50\n",
    "Weight_dps_30to50"
   ]
  },
  {
   "cell_type": "markdown",
   "metadata": {},
   "source": [
    "### DPS 50 to 100 GeV"
   ]
  },
  {
   "cell_type": "code",
   "execution_count": null,
   "metadata": {},
   "outputs": [],
   "source": [
    "luminosity = 41.53/10**(-15) \n",
    "xsec_50to100 = 0.0015398*1e-12\n",
    "Nevts_50to100=477085 \n",
    "Weight_dps_50to100=luminosity*xsec_50to100/Nevts_50to100\n",
    "Weight_dps_50to100"
   ]
  },
  {
   "cell_type": "markdown",
   "metadata": {},
   "source": [
    "### DPS 100 to 150 GeV"
   ]
  },
  {
   "cell_type": "code",
   "execution_count": null,
   "metadata": {},
   "outputs": [],
   "source": [
    "luminosity = 41.53/10**(-15) \n",
    "xsec_100to150 = 0.0000028404*1e-12\n",
    "Nevts_100to150=681385 \n",
    "Weight_dps_100to150=luminosity*xsec_100to150/Nevts_100to150\n",
    "Weight_dps_100to150"
   ]
  },
  {
   "cell_type": "markdown",
   "metadata": {},
   "source": [
    "### SPS"
   ]
  },
  {
   "cell_type": "code",
   "execution_count": null,
   "metadata": {},
   "outputs": [],
   "source": [
    "luminosity = 41.53/10**(-15)  \n",
    "xsec_sps = 1.525e-01*1e-12\n",
    "#xsec_sps = 23.88*1e-12\n",
    "Nevts_sps = 110665\n",
    "Weight_sps = luminosity*xsec_sps/Nevts_sps\n",
    "Weight_sps"
   ]
  },
  {
   "cell_type": "markdown",
   "metadata": {},
   "source": [
    "### b-quark to jpsi (NEW)"
   ]
  },
  {
   "cell_type": "code",
   "execution_count": null,
   "metadata": {},
   "outputs": [],
   "source": [
    "luminosity = 41.53/10**(-15) \n",
    "xsec_bjpsi = 130000*1e-12\n",
    "Nevts_bjpsi = 65768289\n",
    "Weight_bjpsi = luminosity*xsec_bjpsi/Nevts_bjpsi\n",
    "#Weight_bjpsi = luminosity_bjpsi/Nevts_bjpsi/xsec_bjpsi\n",
    "Weight_bjpsi"
   ]
  },
  {
   "cell_type": "code",
   "execution_count": null,
   "metadata": {},
   "outputs": [],
   "source": [
    "# Bs to jpsi Ks phi (NEW)\n",
    "luminosity = 41.53/10**(-15) \n",
    "xsec_bdtojpsiksphi = 14675760*1e-12\n",
    "Nevts_bdtojpsiksphi = 976383\n",
    "Weight_bdtojpsiksphi = luminosity*xsec_bdtojpsiksphi/Nevts_bdtojpsiksphi\n",
    "Weight_bdtojpsiksphi "
   ]
  },
  {
   "cell_type": "code",
   "execution_count": null,
   "metadata": {},
   "outputs": [],
   "source": [
    "data_acc = load(data_file)\n",
    "data = data_acc['JpsiDstar']['Jpsi_p'].sum('eta','phi')\n",
    "weight_data = calc_weight_area(data)\n",
    "data.scale(weight_data)\n",
    "\n",
    "sps_9to30 = sps_9to30_file['JpsiDstar']['Jpsi_p'].sum('eta','phi')\n",
    "sps_9to30.scale(calc_weight_area(sps_9to30)*0.5) \n",
    "\n",
    "sps_30to50 = sps_30to50_file['JpsiDstar']['Jpsi_p'].sum('eta','phi')\n",
    "sps_30to50.scale(calc_weight_area(sps_30to50)*0.5)\n",
    "\n",
    "sps_50to100 = sps_50to100_file['JpsiDstar']['Jpsi_p'].sum('eta','phi')\n",
    "sps_50to100.scale(calc_weight_area(sps_50to100)*0.1)\n",
    "\n",
    "dps_9to30 = dps_9to30_file['JpsiDstar']['Jpsi_p'].sum('eta','phi')\n",
    "dps_9to30.scale(calc_weight_area(dps_9to30)*0.52) \n",
    "\n",
    "dps_30to50 = dps_30to50_file['JpsiDstar']['Jpsi_p'].sum('eta','phi')\n",
    "dps_30to50.scale(calc_weight_area(dps_30to50)*0.52)\n",
    "\n",
    "dps_50to100 = dps_50to100_file['JpsiDstar']['Jpsi_p'].sum('eta','phi')\n",
    "dps_50to100.scale(calc_weight_area(dps_50to100)*0.12)"
   ]
  },
  {
   "cell_type": "code",
   "execution_count": null,
   "metadata": {},
   "outputs": [],
   "source": [
    "lb = ['sps', 'sps', 'sps', 'dps', 'dps', 'dps', 'data']\n",
    "ax = compare_data_mc(lumi, lb, hist_mc={dps_9to30: 'r', dps_30to50: 'r', dps_50to100: 'r', sps_9to30: 'g', sps_30to50: 'g', sps_50to100: 'g', }, hist_data=data, log=False, scale=None)\n",
    "ax.set_yscale('log')\n",
    "ax.set_ylim(0, 0.8)\n",
    "plt.savefig(save_path + 'Jpsi_pt.png')"
   ]
  },
  {
   "cell_type": "code",
   "execution_count": null,
   "metadata": {},
   "outputs": [],
   "source": [
    "data_acc = load(data_file)\n",
    "data = data_acc['JpsiDstar']['Jpsi_p'].sum('eta','phi')\n",
    "weight_data = calc_weight_area(data)\n",
    "data.scale(weight_data)\n",
    "\n",
    "sps_9to30 = sps_9to30_file['JpsiDstar']['Jpsi_p'].sum('eta','phi')\n",
    "weight_sps_9to30 = calc_weight_area(sps_9to30)\n",
    "sps_9to30.scale(weight_sps_9to30)\n",
    "\n",
    "dps_9to30 = dps_9to30_file['JpsiDstar']['Jpsi_p'].sum('eta','phi') \n",
    "weight_dps_9to30 = calc_weight_area(dps_9to30)\n",
    "dps_9to30.scale(weight_dps_9to30)"
   ]
  },
  {
   "cell_type": "code",
   "execution_count": null,
   "metadata": {},
   "outputs": [],
   "source": [
    "lb = ['sps', 'dps', 'data']\n",
    "ax = compare_data_mc(lumi, lb, hist_mc={sps_9to30: 'r', dps_9to30: 'g'}, hist_data=data, log=False, scale=None)\n",
    "ax.set_ylim(0, 0.1)\n",
    "plt.savefig(save_path + 'Jpsi_pt_all_area.png')    "
   ]
  },
  {
   "cell_type": "code",
   "execution_count": null,
   "metadata": {},
   "outputs": [],
   "source": []
  },
  {
   "cell_type": "code",
   "execution_count": null,
   "metadata": {},
   "outputs": [],
   "source": []
  },
  {
   "cell_type": "code",
   "execution_count": null,
   "metadata": {},
   "outputs": [],
   "source": [
    "  "
   ]
  },
  {
   "cell_type": "code",
   "execution_count": null,
   "metadata": {},
   "outputs": [],
   "source": []
  },
  {
   "cell_type": "code",
   "execution_count": null,
   "metadata": {},
   "outputs": [],
   "source": [
    "import functools\n",
    "import operator"
   ]
  },
  {
   "cell_type": "code",
   "execution_count": null,
   "metadata": {},
   "outputs": [],
   "source": [
    "areas_data = functools.reduce(operator.mul, data.to_hist().axes.widths)"
   ]
  },
  {
   "cell_type": "code",
   "execution_count": null,
   "metadata": {},
   "outputs": [],
   "source": [
    "density_data = data.to_hist().values() / data.to_hist().sum() / areas"
   ]
  },
  {
   "cell_type": "code",
   "execution_count": null,
   "metadata": {},
   "outputs": [],
   "source": [
    "data_hist = data.to_hist()"
   ]
  },
  {
   "cell_type": "code",
   "execution_count": null,
   "metadata": {},
   "outputs": [],
   "source": [
    "data_hist.plot1d()"
   ]
  },
  {
   "cell_type": "code",
   "execution_count": null,
   "metadata": {},
   "outputs": [],
   "source": [
    "fig, ax = plt.subplots()\n"
   ]
  },
  {
   "cell_type": "code",
   "execution_count": null,
   "metadata": {},
   "outputs": [],
   "source": []
  },
  {
   "cell_type": "code",
   "execution_count": null,
   "metadata": {},
   "outputs": [],
   "source": [
    "sps_25to150_file = 'SPS/2017/SPS_vtx0p05.coffea'\n",
    "sps_25to150_file = load(sps_25to150_file)"
   ]
  },
  {
   "cell_type": "code",
   "execution_count": null,
   "metadata": {},
   "outputs": [],
   "source": [
    "ax = create_plot1d(sps_9to30_file['JpsiDstar']['JpsiDstar_mass'],)"
   ]
  },
  {
   "cell_type": "code",
   "execution_count": null,
   "metadata": {},
   "outputs": [],
   "source": [
    "ax = create_plot1d(sps_9to30_file['JpsiDstar']['Jpsi_p'].sum('eta','phi'),)\n",
    "#ax.set_xlim(20, 70)"
   ]
  },
  {
   "cell_type": "code",
   "execution_count": null,
   "metadata": {},
   "outputs": [],
   "source": [
    "create_plot1d(dps_50to100_file['JpsiDstar']['Jpsi_p'].sum('eta','phi'),)"
   ]
  },
  {
   "cell_type": "code",
   "execution_count": null,
   "metadata": {},
   "outputs": [],
   "source": []
  },
  {
   "cell_type": "code",
   "execution_count": null,
   "metadata": {},
   "outputs": [],
   "source": [
    "create_plot1d(sps_9to30_file['JpsiDstar']['JpsiDstar_mass']+sps_30to50_file['JpsiDstar']['JpsiDstar_mass']+sps_50to100_file['JpsiDstar']['JpsiDstar_mass'],)"
   ]
  },
  {
   "cell_type": "code",
   "execution_count": null,
   "metadata": {},
   "outputs": [],
   "source": [
    "lumi='mc'\n",
    "lb = ['sps_9to30', 'sps_30to50', 'sps_50to100']\n",
    "hist_mc={sps_9to30_file['JpsiDstar']['Jpsi_p'].sum('eta', 'phi') : 'r', sps_30to50_file['JpsiDstar']['Jpsi_p'].sum('eta', 'phi') : 'g' , sps_50to100_file['JpsiDstar']['Jpsi_p'].sum('eta', 'phi') : 'b' }"
   ]
  },
  {
   "cell_type": "code",
   "execution_count": null,
   "metadata": {},
   "outputs": [],
   "source": [
    "ax = compare_data_mc(lumi=lumi, lb=lb, hist_mc=hist_mc, hist_data=None, log=False, scale=None)\n",
    "ax.set_ylim(0, 1000)"
   ]
  },
  {
   "cell_type": "code",
   "execution_count": null,
   "metadata": {},
   "outputs": [],
   "source": [
    "#def create_hist_plot(data_file, dps_9to30, dps_30to50, dps_50to100, dps_100to150, sps_9to30, bquark_jpsi, typ, area=False):\n",
    "def create_hist_plot(data_file, dps_9to30, dps_30to50, dps_50to100, sps_9to30, sps_30to50, sps_50to100, bquark_jpsi, typ, area=False, for_sum=None):\n",
    "\n",
    "    data = load(data_file)\n",
    "    \n",
    "    dps_9to30 = dps_9to30_file   \n",
    "    dps_30to50 = dps_30to50_file    \n",
    "    dps_50to100 = dps_50to100_file\n",
    "    \n",
    "    sps_9to30 = sps_9to30_file\n",
    "    sps_30to50 = sps_30to50_file    \n",
    "    sps_50to100 = sps_50to100_file\n",
    "\n",
    "    bquark_jpsi = load(background_bquark_jpsi_file)\n",
    "    \n",
    "    hist_data = data['JpsiDstar'][typ]\n",
    "\n",
    "    hist_dps_9to30 = dps_9to30['JpsiDstar'][typ]\n",
    "    hist_dps_30to50 = dps_30to50['JpsiDstar'][typ]\n",
    "    hist_dps_50to100 = dps_50to100['JpsiDstar'][typ]\n",
    "    \n",
    "    hist_sps_9to30 = sps_9to30['JpsiDstar'][typ]\n",
    "    hist_sps_30to50 = sps_30to50['JpsiDstar'][typ]\n",
    "    hist_sps_50to100 = sps_50to100['JpsiDstar'][typ]\n",
    "    \n",
    "    hist_bquark_jpsi = bquark_jpsi['JpsiDstar'][typ]\n",
    "      \n",
    "    # Takes the number of events in data\n",
    "    nevt_data = 4950 # Taken from the fit\n",
    "    # Takes the numbef of events in Monte Carlo\n",
    "    #dps_9to30['JpsiDstar']['Dstar_deltamr']['right charge'].values()[('right charge',)]\n",
    "    #dps_9to30['JpsiDstar']['Jpsi_mass'].values()[()]\n",
    "    \n",
    "    if typ.startswith('Dstar'):\n",
    "        nevts_dps9to30 = np.sum(dps_9to30['JpsiDstar'][typ].values()[('right charge',)])\n",
    "        nevts_dps30to50 = np.sum(dps_30to50['JpsiDstar'][typ].values()[('right charge',)])\n",
    "        nevts_dps50to100 = np.sum(dps_50to100['JpsiDstar'][typ].values()[('right charge',)])\n",
    "        \n",
    "        nevts_sps9to30 = np.sum(sps_9to30['JpsiDstar'][typ].values()[('right charge',)])\n",
    "        nevts_sps30to50 = np.sum(sps_30to50['JpsiDstar'][typ].values()[('right charge',)])\n",
    "        nevts_sps50to100 = np.sum(sps_50to100['JpsiDstar'][typ].values()[('right charge',)])\n",
    "        \n",
    "        nevts_sps = np.sum(sps_9to30['JpsiDstar'][typ].values()[('right charge',)])\n",
    "        nevts_bquark_jpsi = np.sum(bquark_jpsi['JpsiDstar'][typ].values()[('right charge',)])\n",
    "\n",
    "    elif typ.startswith('Jpsi'):\n",
    "        nevts_dps9to30 = np.sum(dps_9to30['JpsiDstar'][typ].values()[()])\n",
    "        nevts_dps30to50 = np.sum(dps_30to50['JpsiDstar'][typ].values()[()])\n",
    "        nevts_dps50to100 = np.sum(dps_50to100['JpsiDstar'][typ].values()[()])\n",
    "        \n",
    "        nevts_sps9to30 = np.sum(sps_9to30['JpsiDstar'][typ].values()[()])\n",
    "        nevts_sps30to50 = np.sum(sps_30to50['JpsiDstar'][typ].values()[()])\n",
    "        nevts_sps50to100 = np.sum(sps_50to100['JpsiDstar'][typ].values()[()])\n",
    "\n",
    "        nevts_sps = np.sum(sps_9to30['JpsiDstar'][typ].values()[()])\n",
    "        nevts_bquark_jpsi = np.sum(bquark_jpsi['JpsiDstar'][typ].values()[()])\n",
    "    \n",
    "    \n",
    "    if area:\n",
    "        if for_sum is None:\n",
    "            \n",
    "            Weight_data = calc_weight_area(hist_data)\n",
    "            hist_data.scale(Weight_data)\n",
    "            \n",
    "            hist_dps = hist_dps_9to30 + hist_dps_30to50 + hist_dps_50to100\n",
    "            Weight_dps = calc_weight_area(hist_dps)\n",
    "            hist_dps.scale(Weight_dps)\n",
    "            \n",
    "            hist_sps = hist_sps_9to30 + hist_sps_30to50 + hist_sps_50to100\n",
    "            Weight_sps = calc_weight_area(hist_sps)\n",
    "            hist_sps.scale(Weight_sps)\n",
    "\n",
    "            Weight_bjpsi = calc_weight_area(hist_bquark_jpsi)\n",
    "            hist_bquark_jpsi.scale(nevt_data/nevts_bquark_jpsi)\n",
    "        else:\n",
    "            \n",
    "            hist_data = hist_data.sum(for_sum[0], for_sum[1])\n",
    "            Weight_data = calc_weight_area(hist_data)\n",
    "            hist_data.scale(Weight_data)\n",
    "            \n",
    "            hist_dps = hist_dps_9to30 + hist_dps_30to50 + hist_dps_50to100\n",
    "            hist_dps = hist_dps.sum(for_sum[0], for_sum[1])\n",
    "            Weight_dps = calc_weight_area(hist_dps)\n",
    "            hist_dps.scale(Weight_dps)\n",
    "            \n",
    "            hist_sps = hist_sps_9to30 + hist_sps_30to50 + hist_sps_50to100\n",
    "            hist_sps = hist_sps.sum(for_sum[0], for_sum[1])\n",
    "            Weight_sps = calc_weight_area(hist_sps)\n",
    "            hist_sps.scale(Weight_sps)\n",
    "            \n",
    "            hist_bquark_jpsi = hist_bquark_jpsi.sum(for_sum[0], for_sum[1])\n",
    "            Weight_bquark_jpsi = calc_weight_area(hist_bquark_jpsi)\n",
    "            hist_bquark_jpsi.scale(Weight_bquark_jpsi)\n",
    "            \n",
    "        \n",
    "    else:\n",
    "\n",
    "        hist_dps_9to30.scale(nevt_data/nevts_dps9to30)    \n",
    "        hist_dps_30to50.scale(nevt_data/nevts_dps30to50)    \n",
    "        hist_dps_50to100.scale(nevt_data/nevts_dps50to100)\n",
    "        hist_dps = hist_dps_9to30 + hist_dps_30to50 + hist_dps_50to100\n",
    "\n",
    "        hist_sps_9to30.scale(nevt_data/nevts_sps9to30)    \n",
    "        hist_sps_30to50.scale(nevt_data/nevts_sps30to50)    \n",
    "        hist_sps_50to100.scale(nevt_data/nevts_sps50to100)\n",
    "        hist_sps = hist_sps_9to30 + hist_sps_30to50 + hist_sps_50to100\n",
    "\n",
    "        hist_bquark_jpsi.scale(nevt_data/nevts_bquark_jpsi)\n",
    "    \n",
    "        \n",
    "    return hist_data, hist_dps, hist_sps, hist_bquark_jpsi, hist_dps+hist_sps+hist_bquark_jpsi"
   ]
  },
  {
   "cell_type": "code",
   "execution_count": null,
   "metadata": {},
   "outputs": [],
   "source": [
    "dps_9to30 = dps_9to30_file"
   ]
  },
  {
   "cell_type": "code",
   "execution_count": null,
   "metadata": {},
   "outputs": [],
   "source": [
    "dps_30to50 = dps_30to50_file"
   ]
  },
  {
   "cell_type": "code",
   "execution_count": null,
   "metadata": {},
   "outputs": [],
   "source": [
    "hist_dps_9to30 = dps_9to30['JpsiDstar']['JpsiDstar_mass']"
   ]
  },
  {
   "cell_type": "code",
   "execution_count": null,
   "metadata": {},
   "outputs": [],
   "source": [
    "hist_dps_30to50 = dps_30to50['JpsiDstar']['JpsiDstar_mass']"
   ]
  },
  {
   "cell_type": "code",
   "execution_count": null,
   "metadata": {},
   "outputs": [],
   "source": [
    "dps_30to50['JpsiDstar']"
   ]
  },
  {
   "cell_type": "code",
   "execution_count": null,
   "metadata": {},
   "outputs": [],
   "source": [
    "hist.plot1d(dps_9to30['JpsiDstar']['JpsiDstar_mass'])"
   ]
  },
  {
   "cell_type": "code",
   "execution_count": null,
   "metadata": {},
   "outputs": [],
   "source": [
    "hist.plot1d(dps_30to50['JpsiDstar']['JpsiDstar_deltarap'])"
   ]
  },
  {
   "cell_type": "markdown",
   "metadata": {},
   "source": [
    "## Variable: J/$\\psi$D$^*$ invariant mass"
   ]
  },
  {
   "cell_type": "code",
   "execution_count": null,
   "metadata": {},
   "outputs": [],
   "source": [
    "hist_data_invmass, hist_dps_invmass, hist_sps_invmass, hist_bquark_jpsi_invmass, total = create_hist_plot(data_file, \n",
    "                                                                                                   dps_9to30_file, \n",
    "                                                                                                   dps_30to50_file, \n",
    "                                                                                                   dps_50to100_file,\n",
    "                                                                                                   sps_9to30_file, \n",
    "                                                                                                   sps_30to50_file, \n",
    "                                                                                                   sps_50to100_file,\n",
    "                                                                                                   background_bquark_jpsi_file,\n",
    "                                                                                                   typ='JpsiDstar_mass',\n",
    "                                                                                                   area=True) #, Data, DPS, bquark, SPS\n",
    "hist_mc_invmass={hist_dps_invmass:'r',\n",
    "                 #hist_bquark_jpsi_invmass: 'b',\n",
    "                 hist_sps_invmass: 'g',\n",
    "                 }\n",
    "\n",
    "#labels = ['DPS - Pythia8', '$b-quark -> J/\\psi$', 'SPS - 3FS+4FS','$Data$',]\n",
    "labels = ['DPS - Pythia8','SPS - 3FS+4FS','$Data$',]\n",
    "\n",
    "ax = compare_data_mc(lumi, \n",
    "                     labels,\n",
    "                     hist_mc=hist_mc_invmass,\n",
    "                     hist_data=hist_data_invmass,)\n",
    "ax.set_ylabel('Events/area')\n",
    "#ax.set_ylim(0, 3e3)\n",
    "ax.set_ylim(0, 0.3)\n",
    "plt.savefig(save_path + 'JpsiDstar_invmass.png')"
   ]
  },
  {
   "cell_type": "code",
   "execution_count": null,
   "metadata": {},
   "outputs": [],
   "source": [
    "hist_mc_invmass={total:'r',\n",
    "                 }\n",
    "\n",
    "#labels = ['DPS - Pythia8', '$b-quark -> J/\\psi$', 'SPS - 3FS+4FS','$Data$',] labels = ['DPS - Pythia8','SPS - 3FS+4FS','$Data$',]\n",
    "ax = compare_data_mc(lumi, \n",
    "                     labels,\n",
    "                     hist_mc=hist_mc_invmass,\n",
    "                     hist_data=hist_data_invmass,)\n",
    "ax.set_ylabel('Events/area')\n",
    "ax.set_ylim(0, 3e3)\n",
    "plt.savefig(save_path + 'JpsiDstar_invmass_allMC.png')"
   ]
  },
  {
   "cell_type": "markdown",
   "metadata": {},
   "source": [
    "## Variable: J/$\\psi$D$^*$ pt"
   ]
  },
  {
   "cell_type": "code",
   "execution_count": null,
   "metadata": {},
   "outputs": [],
   "source": [
    "hist_data_ptobj, hist_dps_ptobj, hist_sps_ptobj, hist_bquark_jpsi_ptobj, total_ptobj = create_hist_plot(data_file, \n",
    "                                                                                           dps_9to30_file, \n",
    "                                                                                           dps_30to50_file, \n",
    "                                                                                           dps_50to100_file,\n",
    "                                                                                           sps_9to30_file, \n",
    "                                                                                           sps_30to50_file, \n",
    "                                                                                           sps_50to100_file,\n",
    "                                                                                           background_bquark_jpsi_file,\n",
    "                                                                                           typ='JpsiDstar_pt',\n",
    "                                                                                           area=True)\n",
    "\n",
    "hist_mc_ptobj={hist_dps_ptobj:'r',\n",
    "               #hist_bquark_jpsi_ptobj: 'b',\n",
    "                hist_sps_ptobj: 'g',\n",
    "               }\n",
    "\n",
    "#labels = ['DPS - Pythia8', '$b-quark -> J/\\psi$', 'SPS - 3FS+4FS','$Data$',]\n",
    "labels = ['DPS - Pythia8','SPS - 3FS+4FS','$Data$',]\n",
    "\n",
    "ax = compare_data_mc(lumi, \n",
    "                     labels,\n",
    "                     hist_mc=hist_mc_ptobj,\n",
    "                     hist_data=hist_data_ptobj,)\n",
    "ax.set_ylabel('Events/area')\n",
    "#ax.set_ylim(0, 9e3)\n",
    "plt.savefig(save_path + 'JpsiDstar_pt.png')"
   ]
  },
  {
   "cell_type": "code",
   "execution_count": null,
   "metadata": {},
   "outputs": [],
   "source": [
    "hist_mc_ptobj={total_ptobj:'r',\n",
    "                 }\n",
    "\n",
    "#labels = ['DPS - Pythia8', '$b-quark -> J/\\psi$', 'SPS - 3FS+4FS','$Data$',] \n",
    "labels = ['DPS - Pythia8','SPS - 3FS+4FS','$Data$',]\n",
    "ax = compare_data_mc(lumi, \n",
    "                     labels,\n",
    "                     hist_mc=hist_mc_ptobj,\n",
    "                     hist_data=hist_data_ptobj,)\n",
    "ax.set_ylabel('Events/area')\n",
    "ax.set_ylim(0, 3e3)\n",
    "plt.savefig(save_path + 'JpsiDstar_pt_allMC.png')"
   ]
  },
  {
   "cell_type": "markdown",
   "metadata": {},
   "source": [
    "## Variable: $\\Delta$y"
   ]
  },
  {
   "cell_type": "code",
   "execution_count": null,
   "metadata": {},
   "outputs": [],
   "source": [
    "hist_data_deltarap, hist_dps_deltarap, hist_sps_deltarap, hist_bquark_jpsi_deltarap, total_deltarap = create_hist_plot(data_file, \n",
    "                                                                                                       dps_9to30_file, \n",
    "                                                                                                       dps_30to50_file, \n",
    "                                                                                                       dps_50to100_file,\n",
    "                                                                                                       sps_9to30_file, \n",
    "                                                                                                       sps_30to50_file, \n",
    "                                                                                                       sps_50to100_file,\n",
    "                                                                                                       background_bquark_jpsi_file,\n",
    "                                                                                                       typ='JpsiDstar_deltarap',\n",
    "                                                                                                       area=True )\n",
    "\n",
    "hist_mc_deltarap={hist_dps_deltarap:'r',\n",
    "                  #hist_bquark_jpsi_deltarap: 'b',\n",
    "                  hist_sps_deltarap: 'g',\n",
    "                  }\n",
    "\n",
    "#labels = ['DPS - Pythia8', '$b-quark -> J/\\psi$', 'SPS - 3FS+4FS','$Data$',]\n",
    "labels = ['DPS - Pythia8','SPS - 3FS+4FS','$Data$',]\n",
    "\n",
    "ax = compare_data_mc(lumi, \n",
    "                     labels,\n",
    "                     hist_mc=hist_mc_deltarap,\n",
    "                     hist_data=hist_data_deltarap,)\n",
    "ax.set_ylabel('Events/area')\n",
    "#ax.set_xlim(-6, 6)\n",
    "#ax.set_ylim(0, 1.1e4)\n",
    "plt.savefig(save_path + 'JpsiDstar_deltay.png')"
   ]
  },
  {
   "cell_type": "code",
   "execution_count": null,
   "metadata": {},
   "outputs": [],
   "source": [
    "hist_mc_ptobj={total_ptobj:'r',\n",
    "                 }\n",
    "\n",
    "#labels = ['DPS - Pythia8', '$b-quark -> J/\\psi$', 'SPS - 3FS+4FS','$Data$',]\n",
    "labels = ['DPS - Pythia8','SPS - 3FS+4FS','$Data$',]\n",
    "ax = compare_data_mc(lumi, \n",
    "                     labels,\n",
    "                     hist_mc=hist_mc_ptobj,\n",
    "                     hist_data=hist_data_ptobj,)\n",
    "ax.set_ylabel('Events/area')\n",
    "ax.set_ylim(0, 3e3)\n",
    "plt.savefig(save_path + 'JpsiDstar_pt_allMC.png')"
   ]
  },
  {
   "cell_type": "markdown",
   "metadata": {},
   "source": [
    "## Variable: $\\Delta$$\\phi$"
   ]
  },
  {
   "cell_type": "code",
   "execution_count": null,
   "metadata": {},
   "outputs": [],
   "source": [
    "hist_data_deltaphi, hist_dps_deltaphi, hist_sps_deltaphi, hist_bquark_jpsi_deltaphi, total = create_hist_plot(data_file, \n",
    "                                                                                                       dps_9to30_file, \n",
    "                                                                                                       dps_30to50_file, \n",
    "                                                                                                       dps_50to100_file,\n",
    "                                                                                                       sps_9to30_file, \n",
    "                                                                                                       sps_30to50_file, \n",
    "                                                                                                       sps_50to100_file, \n",
    "                                                                                                       background_bquark_jpsi_file,\n",
    "                                                                                                       typ='JpsiDstar_deltaphi',\n",
    "                                                                                                       area=True)\n",
    "\n",
    "hist_mc_deltaphi={hist_dps_deltaphi:'r',\n",
    "                  #hist_bquark_jpsi_deltaphi: 'b',\n",
    "                  hist_sps_deltaphi: 'g',\n",
    "                  }\n",
    "\n",
    "#labels = ['DPS - Pythia8', '$b-quark -> J/\\psi$', 'SPS - 3FS+4FS','$Data$',]\n",
    "labels = ['DPS - Pythia8','SPS - 3FS+4FS','$Data$',]\n",
    "\n",
    "ax = compare_data_mc(lumi, \n",
    "                     labels,\n",
    "                     hist_mc=hist_mc_deltaphi,\n",
    "                     hist_data=hist_data_deltaphi,)\n",
    "ax.set_ylabel('Events/area')\n",
    "#ax.set_ylim(0, 0.9e4)\n",
    "plt.savefig(save_path + 'JpsiDstar_deltaphi.png')"
   ]
  },
  {
   "cell_type": "markdown",
   "metadata": {},
   "source": [
    "## Variable: J/$\\psi$ decay length [mm]"
   ]
  },
  {
   "cell_type": "code",
   "execution_count": null,
   "metadata": {},
   "outputs": [],
   "source": [
    "hist_data_dl, hist_dps_dl, hist_sps_dl, hist_bquark_jpsi_dl, total = create_hist_plot(data_file, \n",
    "                                                     \n",
    "                                                                               dps_9to30_file, \n",
    "                                                                               dps_30to50_file, \n",
    "                                                                               dps_50to100_file,\n",
    "                                                                               sps_9to30_file, \n",
    "                                                                               sps_30to50_file, \n",
    "                                                                               sps_50to100_file,\n",
    "                                                                               background_bquark_jpsi_file,\n",
    "                                                                               typ='Jpsi_dl',\n",
    "                                                                               area=True)\n",
    "\n",
    "hist_mc_dl={hist_dps_dl:'r',\n",
    "            #hist_bquark_jpsi_dl: 'b',\n",
    "            hist_sps_dl: 'g',\n",
    "            }\n",
    "\n",
    "#labels = ['DPS - Pythia8', '$b-quark -> J/\\psi$', 'SPS - 3FS+4FS','$Data$',]\n",
    "labels = ['DPS - Pythia8','SPS - 3FS+4FS','$Data$',]\n",
    "\n",
    "ax = compare_data_mc(lumi, \n",
    "                     labels,\n",
    "                     hist_mc=hist_mc_dl,\n",
    "                     hist_data=hist_data_dl,\n",
    "                     log=False)\n",
    "ax.set_ylabel('Events/area')\n",
    "ax.set_xlabel('J/$\\psi$ dl [mm].')\n",
    "#ax.set_ylim(0, 5e4)\n",
    "plt.savefig(save_path + 'Jpsi_decay_length.png')\n",
    "ax.set_yscale('log')\n",
    "ax.set_ylim(0, 0.5)"
   ]
  },
  {
   "cell_type": "markdown",
   "metadata": {},
   "source": [
    "## Variable: J/$\\psi$ decay length significance"
   ]
  },
  {
   "cell_type": "code",
   "execution_count": null,
   "metadata": {},
   "outputs": [],
   "source": [
    "hist_data_dlSig, hist_dps_dlSig, hist_sps_dlSig, hist_bquark_jpsi_dlSig, total = create_hist_plot(data_file, \n",
    "                                                                                                       dps_9to30_file, \n",
    "                                                                                                       dps_30to50_file, \n",
    "                                                                                                       dps_50to100_file,\n",
    "                                                                                                       sps_9to30_file, \n",
    "                                                                                                       sps_30to50_file, \n",
    "                                                                                                       sps_50to100_file, \n",
    "                                                                                                       background_bquark_jpsi_file,\n",
    "                                                                                                       typ='Jpsi_dlSig',\n",
    "                                                                                                       area=True)\n",
    "\n",
    "hist_mc_dlSig={hist_dps_dlSig:'r',\n",
    "                 hist_sps_dlSig: 'g',\n",
    "                 #hist_bquark_jpsi_dlSig: 'b'}\n",
    "              }\n",
    "#labels = ['DPS - Pythia8', '$b-quark -> J/\\psi$', 'SPS - 3FS+4FS','$Data$',]\n",
    "#labels = ['DPS - Pythia8', '$b-quark -> J/\\psi$', 'SPS - 3FS+4FS','$Data$',]\n",
    "labels = ['DPS - Pythia8','SPS - 3FS+4FS','$Data$',]\n",
    "\n",
    "ax = compare_data_mc(lumi, \n",
    "                     labels,\n",
    "                     hist_mc=hist_mc_dlSig,\n",
    "                     hist_data=hist_data_dlSig,)\n",
    "ax.set_ylabel('Events/area')\n",
    "ax.set_xlabel('J/$\\psi$ dl. sig.')\n",
    "plt.savefig(save_path + 'Jpsi_decay_length_significance.png')"
   ]
  },
  {
   "cell_type": "markdown",
   "metadata": {},
   "source": [
    "## Variable: J/$\\psi$ mass"
   ]
  },
  {
   "cell_type": "code",
   "execution_count": null,
   "metadata": {},
   "outputs": [],
   "source": [
    "hist_data_mass, hist_dps_mass, hist_sps_mass, hist_bquark_jpsi_mass, total = create_hist_plot(data_file, \n",
    "                                                                                       dps_9to30_file, \n",
    "                                                                                       dps_30to50_file, \n",
    "                                                                                       dps_50to100_file,\n",
    "                                                                                       sps_9to30_file, \n",
    "                                                                                       sps_30to50_file, \n",
    "                                                                                       sps_50to100_file, \n",
    "                                                                                       background_bquark_jpsi_file,\n",
    "                                                                                       typ='Jpsi_mass',\n",
    "                                                                                       area=True)\n",
    "\n",
    "hist_mc_mass ={hist_dps_mass: 'r',\n",
    "               #hist_bquark_jpsi_mass: 'b',\n",
    "               hist_sps_mass: 'g',\n",
    "               }\n",
    "\n",
    "#labels = ['DPS - Pythia8', '$b-quark -> J/\\psi$', 'SPS - 3FS+4FS','$Data$',]\n",
    "labels = ['DPS - Pythia8','SPS - 3FS+4FS','$Data$',]\n",
    "\n",
    "ax = compare_data_mc(lumi, \n",
    "                     labels,\n",
    "                     hist_mc=hist_mc_mass,\n",
    "                     hist_data=hist_data_mass)\n",
    "ax.set_ylabel('Events/area')\n",
    "#ax.set_ylim(0, 4e3)\n",
    "plt.savefig(save_path + 'Jpsi_mass.png')"
   ]
  },
  {
   "cell_type": "code",
   "execution_count": null,
   "metadata": {},
   "outputs": [],
   "source": [
    "hist_mc_mass={total:'r',\n",
    "                 }\n",
    "\n",
    "#labels = ['DPS - Pythia8', '$b-quark -> J/\\psi$', 'SPS - 3FS+4FS','$Data$',]\n",
    "labels = ['DPS - Pythia8','SPS - 3FS+4FS','$Data$',]\n",
    "ax = compare_data_mc(lumi, \n",
    "                     labels,\n",
    "                     hist_mc=hist_mc_mass,\n",
    "                     hist_data=hist_data_mass,)\n",
    "ax.set_ylabel('Events/area')\n",
    "ax.set_ylim(0, 1.5e3)\n",
    "plt.savefig(save_path + 'Jpsi_mass_all.png')"
   ]
  },
  {
   "cell_type": "markdown",
   "metadata": {},
   "source": [
    "## Variable: J/$\\psi$ p$_T$"
   ]
  },
  {
   "cell_type": "code",
   "execution_count": null,
   "metadata": {},
   "outputs": [],
   "source": [
    "hist_data_pt, hist_dps_pt, hist_sps_pt, hist_bquark_jpsi_pt, total = create_hist_plot(data_file, \n",
    "                                                                               dps_9to30_file, \n",
    "                                                                               dps_30to50_file, \n",
    "                                                                               dps_50to100_file,\n",
    "                                                                               sps_9to30_file, \n",
    "                                                                               sps_30to50_file, \n",
    "                                                                               sps_50to100_file, \n",
    "                                                                               background_bquark_jpsi_file,\n",
    "                                                                               typ='Jpsi_p',\n",
    "                                                                               area=True,\n",
    "                                                                               for_sum = ['eta', 'phi'])\n",
    "\n",
    "hist_mc_pt ={hist_dps_pt: 'r',\n",
    "             #hist_bquark_jpsi_pt.sum('eta', 'phi'): 'b',\n",
    "             hist_sps_pt: 'g',\n",
    "             }\n",
    "\n",
    "#labels = ['DPS - Pythia8', '$b-quark -> J/\\psi$', 'SPS - 3FS+4FS','$Data$',]\n",
    "labels = ['DPS - Pythia8','SPS - 3FS+4FS','$Data$',]\n",
    "\n",
    "ax = compare_data_mc(lumi, \n",
    "                     labels,\n",
    "                     hist_mc=hist_mc_pt,\n",
    "                     hist_data=hist_data_pt, log=False)\n",
    "ax.set_ylabel('Events/area')\n",
    "#ax.set_ylim(0, 15e3)\n",
    "plt.savefig(save_path + 'Jpsi_pt.png')\n",
    "ax.set_yscale('log')\n",
    "ax.set_ylim(0, None)"
   ]
  },
  {
   "cell_type": "markdown",
   "metadata": {},
   "source": [
    "## Variable: J/$\\psi$ $\\eta$"
   ]
  },
  {
   "cell_type": "code",
   "execution_count": null,
   "metadata": {},
   "outputs": [],
   "source": [
    "hist_data_eta, hist_dps_eta, hist_sps_eta, hist_bquark_jpsi_eta, total = create_hist_plot(data_file, \n",
    "                                                                               dps_9to30_file, \n",
    "                                                                               dps_30to50_file, \n",
    "                                                                               dps_50to100_file,\n",
    "                                                                               sps_9to30_file, \n",
    "                                                                               sps_30to50_file, \n",
    "                                                                               sps_50to100_file, \n",
    "                                                                               background_bquark_jpsi_file,\n",
    "                                                                               typ='Jpsi_p',\n",
    "                                                                               area=True,\n",
    "                                                                               for_sum = ['pt', 'phi'])\n",
    "\n",
    "hist_mc_eta ={hist_dps_eta: 'r',\n",
    "             #hist_bquark_jpsi_eta.sum('pt', 'phi'): 'b',\n",
    "             hist_sps_eta: 'g',\n",
    "             }\n",
    "\n",
    "#labels = ['DPS - Pythia8', '$b-quark -> J/\\psi$', 'SPS - 3FS+4FS','$Data$',]\n",
    "labels = ['DPS - Pythia8','SPS - 3FS+4FS','$Data$',]\n",
    "\n",
    "ax = compare_data_mc(lumi, \n",
    "                     labels,\n",
    "                     hist_mc=hist_mc_eta,\n",
    "                     hist_data=hist_data_eta, log=False)\n",
    "ax.set_ylabel('Events/area')\n",
    "#ax.set_ylim(0, 15e3)\n",
    "plt.savefig(save_path + 'Jpsi_eta.png')"
   ]
  },
  {
   "cell_type": "markdown",
   "metadata": {},
   "source": [
    "## Variable: J/$\\psi$ $\\phi$"
   ]
  },
  {
   "cell_type": "code",
   "execution_count": null,
   "metadata": {},
   "outputs": [],
   "source": [
    "hist_data_phi, hist_dps_phi, hist_sps_phi, hist_bquark_jpsi_phi, total = create_hist_plot(data_file, \n",
    "                                                                               dps_9to30_file, \n",
    "                                                                               dps_30to50_file, \n",
    "                                                                               dps_50to100_file,\n",
    "                                                                               sps_9to30_file, \n",
    "                                                                               sps_30to50_file, \n",
    "                                                                               sps_50to100_file, \n",
    "                                                                               background_bquark_jpsi_file,\n",
    "                                                                               typ='Jpsi_p',\n",
    "                                                                               area=True,\n",
    "                                                                               for_sum = ['pt', 'eta'])\n",
    "\n",
    "hist_mc_phi ={hist_dps_phi: 'r',\n",
    "             #hist_bquark_jpsi_phi.sum('pt', 'eta'): 'b',\n",
    "             hist_sps_phi: 'g',\n",
    "             }\n",
    "\n",
    "#labels = ['DPS - Pythia8', '$b-quark -> J/\\psi$', 'SPS - 3FS+4FS','$Data$',]\n",
    "labels = ['DPS - Pythia8','SPS - 3FS+4FS','$Data$',]\n",
    "\n",
    "ax = compare_data_mc(lumi, \n",
    "                     labels,\n",
    "                     hist_mc=hist_mc_phi,\n",
    "                     hist_data=hist_data_phi, log=False)\n",
    "ax.set_ylabel('Events/area')\n",
    "#ax.set_ylim(0, 15e3)\n",
    "plt.savefig(save_path + 'Jpsi_phi.png')"
   ]
  },
  {
   "cell_type": "markdown",
   "metadata": {},
   "source": [
    "## Variable: D$^*$ mass"
   ]
  },
  {
   "cell_type": "code",
   "execution_count": null,
   "metadata": {},
   "outputs": [],
   "source": [
    "hist_data_mass, hist_dps_mass, hist_sps_mass, hist_bquark_jpsi_mass, total = create_hist_plot(data_file, \n",
    "                                                                                       dps_9to30_file, \n",
    "                                                                                       dps_30to50_file, \n",
    "                                                                                       dps_50to100_file,\n",
    "                                                                                       sps_9to30_file, \n",
    "                                                                                       sps_30to50_file, \n",
    "                                                                                       sps_50to100_file,\n",
    "                                                                                       background_bquark_jpsi_file,\n",
    "                                                                                       typ='Dstar_deltamr',\n",
    "                                                                                       area=True)\n",
    "\n",
    "hist_mc_mass ={hist_dps_mass: 'r',\n",
    "               #hist_bquark_jpsi_mass: 'b',\n",
    "               hist_sps_mass: 'g',\n",
    "               }\n",
    "\n",
    "#labels = ['DPS - Pythia8', '$b-quark -> J/\\psi$', 'SPS - 3FS+4FS','$Data$',]\n",
    "labels = ['DPS - Pythia8','SPS - 3FS+4FS','$Data$',]\n",
    "\n",
    "ax = compare_data_mc(lumi, \n",
    "                     labels,\n",
    "                     hist_mc=hist_mc_mass,\n",
    "                     hist_data=hist_data_mass)\n",
    "ax.set_ylabel('Events/area')\n",
    "#ax.set_ylim(0, 7e3)\n",
    "ax.set_ylim(0, 0.8)\n",
    "plt.savefig(save_path + 'Dstar_deltamassr.png')"
   ]
  },
  {
   "cell_type": "markdown",
   "metadata": {},
   "source": [
    "## Variable: D$^*$ p$_T$"
   ]
  },
  {
   "cell_type": "code",
   "execution_count": null,
   "metadata": {},
   "outputs": [],
   "source": [
    "hist_data_pt, hist_dps_pt, hist_sps_pt, hist_bquark_jpsi_pt, total = create_hist_plot(data_file, \n",
    "                                                                               dps_9to30_file, \n",
    "                                                                               dps_30to50_file, \n",
    "                                                                               dps_50to100_file, \n",
    "                                                                               sps_9to30_file, \n",
    "                                                                               sps_30to50_file, \n",
    "                                                                               sps_50to100_file,\n",
    "                                                                               background_bquark_jpsi_file,\n",
    "                                                                               typ='Dstar_p',\n",
    "                                                                               area=True,\n",
    "                                                                               for_sum = ['eta', 'phi'])\n",
    "\n",
    "hist_mc_pt ={hist_dps_pt: 'r',\n",
    "             #hist_bquark_jpsi_pt.sum('eta', 'phi'): 'b',\n",
    "             hist_sps_pt: 'g',\n",
    "             }\n",
    "\n",
    "#labels = ['DPS - Pythia8', '$b-quark -> J/\\psi$', 'SPS - 3FS+4FS','$Data$',]\n",
    "labels = ['DPS - Pythia8','SPS - 3FS+4FS','$Data$',]\n",
    "\n",
    "ax = compare_data_mc(lumi, \n",
    "                     labels,\n",
    "                     hist_mc=hist_mc_pt,\n",
    "                     hist_data=hist_data_pt, log=False)\n",
    "ax.set_ylabel('Events/area')\n",
    "#ax.set_ylim(0, 15e3)\n",
    "plt.savefig(save_path + 'Dstar_pt.png')\n",
    "ax.set_yscale('log')\n",
    "ax.set_ylim(0, 0.5)"
   ]
  },
  {
   "cell_type": "markdown",
   "metadata": {},
   "source": [
    "## Variable: D$^*$ $\\eta$"
   ]
  },
  {
   "cell_type": "code",
   "execution_count": null,
   "metadata": {},
   "outputs": [],
   "source": [
    "hist_data_eta, hist_dps_eta, hist_sps_eta, hist_bquark_jpsi_eta, total = create_hist_plot(data_file, \n",
    "                                                                               dps_9to30_file, \n",
    "                                                                               dps_30to50_file, \n",
    "                                                                               dps_50to100_file,\n",
    "                                                                               sps_9to30_file, \n",
    "                                                                               sps_30to50_file, \n",
    "                                                                               sps_50to100_file,\n",
    "                                                                               background_bquark_jpsi_file,\n",
    "                                                                               typ='Dstar_p',\n",
    "                                                                               area=True,\n",
    "                                                                               for_sum = ['pt', 'phi'])\n",
    "\n",
    "hist_mc_eta ={hist_dps_eta: 'r',\n",
    "             #hist_bquark_jpsi_eta.sum('pt', 'phi'): 'b',\n",
    "             hist_sps_eta: 'g',\n",
    "             }\n",
    "\n",
    "#labels = ['DPS - Pythia8', '$b-quark -> J/\\psi$', 'SPS - 3FS+4FS','$Data$',]\n",
    "labels = ['DPS - Pythia8','SPS - 3FS+4FS','$Data$',]\n",
    "\n",
    "ax = compare_data_mc(lumi, \n",
    "                     labels,\n",
    "                     hist_mc=hist_mc_eta,\n",
    "                     hist_data=hist_data_eta, log=False)\n",
    "ax.set_ylabel('Events/area')\n",
    "#ax.set_ylim(0, 15e3)\n",
    "plt.savefig(save_path + 'Dstar_eta.png')\n",
    "ax.set_ylim(0, 0.03)"
   ]
  },
  {
   "cell_type": "markdown",
   "metadata": {},
   "source": [
    "## Variable: D$^*$ $\\phi$"
   ]
  },
  {
   "cell_type": "code",
   "execution_count": null,
   "metadata": {},
   "outputs": [],
   "source": [
    "hist_data_phi, hist_dps_phi, hist_sps_phi, hist_bquark_jpsi_phi, total = create_hist_plot(data_file, \n",
    "                                                                               dps_9to30_file, \n",
    "                                                                               dps_30to50_file, \n",
    "                                                                               dps_50to100_file,\n",
    "                                                                               sps_9to30_file, \n",
    "                                                                               sps_30to50_file, \n",
    "                                                                               sps_50to100_file,\n",
    "                                                                               background_bquark_jpsi_file,\n",
    "                                                                               typ='Dstar_p',\n",
    "                                                                               area=True,\n",
    "                                                                               for_sum = ['pt', 'phi'])\n",
    "\n",
    "hist_mc_phi ={hist_dps_phi: 'r',\n",
    "             #hist_bquark_jpsi_phi.sum('pt', 'eta'): 'b',\n",
    "             hist_sps_phi: 'g',\n",
    "             }\n",
    "\n",
    "#labels = ['DPS - Pythia8', '$b-quark -> J/\\psi$', 'SPS - 3FS+4FS','$Data$',]\n",
    "labels = ['DPS - Pythia8','SPS - 3FS+4FS','$Data$',]\n",
    "\n",
    "ax = compare_data_mc(lumi, \n",
    "                     labels,\n",
    "                     hist_mc=hist_mc_phi,\n",
    "                     hist_data=hist_data_phi, log=False)\n",
    "ax.set_ylabel('Events/area')\n",
    "#ax.set_ylim(0, 15e3)\n",
    "plt.savefig(save_path + 'Dstar_phi.png')\n",
    "ax.set_ylim(0, 0.05)"
   ]
  },
  {
   "cell_type": "code",
   "execution_count": null,
   "metadata": {},
   "outputs": [],
   "source": []
  },
  {
   "cell_type": "code",
   "execution_count": null,
   "metadata": {},
   "outputs": [],
   "source": []
  },
  {
   "cell_type": "code",
   "execution_count": null,
   "metadata": {},
   "outputs": [],
   "source": []
  },
  {
   "cell_type": "code",
   "execution_count": null,
   "metadata": {},
   "outputs": [],
   "source": []
  },
  {
   "cell_type": "code",
   "execution_count": null,
   "metadata": {},
   "outputs": [],
   "source": [
    "hist_dps_9to30"
   ]
  },
  {
   "cell_type": "markdown",
   "metadata": {},
   "source": [
    "# Dedicated to tests"
   ]
  },
  {
   "cell_type": "code",
   "execution_count": null,
   "metadata": {},
   "outputs": [],
   "source": [
    "##### DPS pT tests"
   ]
  },
  {
   "cell_type": "code",
   "execution_count": null,
   "metadata": {},
   "outputs": [],
   "source": [
    "data = load(data_file)\n",
    "\n",
    "dps_9to30 = load(dps_9to30_file)\n",
    "dps_30to50 = load(dps_30to50_file)\n",
    "dps_50to100 = load(dps_50to100_file)\n",
    "dps_100to150 = load(dps_100to150_file)\n",
    "\n",
    "hist_data = data['JpsiDstar']['Jpsi_p'].sum('eta', 'phi')\n",
    "\n",
    "hist_dps_9to30 = dps_9to30['JpsiDstar']['Jpsi_p'].sum('eta', 'phi')\n",
    "hist_dps_9to30.scale(Weight_dps_9to30)\n",
    "\n",
    "hist_dps_30to50 = dps_30to50['JpsiDstar']['Jpsi_p'].sum('eta', 'phi')\n",
    "hist_dps_30to50.scale(Weight_dps_30to50)\n",
    "\n",
    "hist_dps_50to100 = dps_50to100['JpsiDstar']['Jpsi_p'].sum('eta', 'phi')\n",
    "hist_dps_50to100.scale(Weight_dps_50to100)\n",
    "\n",
    "hist_dps_100to150 = dps_100to150['JpsiDstar']['Jpsi_p'].sum('eta', 'phi')\n",
    "hist_dps_100to150.scale(Weight_dps_100to150)\n",
    "\n",
    "hist_dps = hist_dps_9to30 + hist_dps_30to50 + hist_dps_50to100 + hist_dps_100to150\n",
    "\n"
   ]
  },
  {
   "cell_type": "code",
   "execution_count": null,
   "metadata": {},
   "outputs": [],
   "source": [
    "hist_mc_pt ={hist_dps_9to30: 'r',\n",
    "             hist_dps_30to50: 'g',\n",
    "             hist_dps_50to100: 'b',\n",
    "             hist_dps_100to150: 'k'}\n",
    "\n",
    "labels = ['DPS - 9 to 30 GeV', 'DPS - 30 to 50 GeV' ,'DPS - 50 to 100 GeV', 'DPS - 100 to 150 GeV',  '$Data$',]"
   ]
  },
  {
   "cell_type": "code",
   "execution_count": null,
   "metadata": {},
   "outputs": [],
   "source": [
    "ax = compare_data_mc(lumi, \n",
    "                     labels,\n",
    "                     hist_mc=hist_mc_pt,\n",
    "                     hist_data=hist_data,\n",
    "                     log=True)\n",
    "ax.set_ylabel('Events/area')"
   ]
  },
  {
   "cell_type": "code",
   "execution_count": null,
   "metadata": {},
   "outputs": [],
   "source": []
  },
  {
   "cell_type": "code",
   "execution_count": null,
   "metadata": {},
   "outputs": [],
   "source": []
  }
 ],
 "metadata": {
  "kernelspec": {
   "display_name": "Python 3 (ipykernel)",
   "language": "python",
   "name": "python3"
  },
  "language_info": {
   "codemirror_mode": {
    "name": "ipython",
    "version": 3
   },
   "file_extension": ".py",
   "mimetype": "text/x-python",
   "name": "python",
   "nbconvert_exporter": "python",
   "pygments_lexer": "ipython3",
   "version": "3.9.7"
  }
 },
 "nbformat": 4,
 "nbformat_minor": 4
}
